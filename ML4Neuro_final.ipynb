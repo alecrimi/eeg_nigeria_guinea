{
  "cells": [
    {
      "cell_type": "markdown",
      "id": "kutSvO_GipeZ",
      "metadata": {
        "id": "kutSvO_GipeZ"
      },
      "source": [
        "# Explainable graph network for Graph Convolutional Networks for affordable epilepsy detection with EEG with affordable devices in Africa"
      ]
    },
    {
      "cell_type": "code",
      "execution_count": 1,
      "id": "iHCIwWJMEb5e",
      "metadata": {
        "id": "iHCIwWJMEb5e",
        "colab": {
          "base_uri": "https://localhost:8080/"
        },
        "outputId": "b3e27bd9-864e-40f9-89c5-75ef9e846e3e"
      },
      "outputs": [
        {
          "output_type": "stream",
          "name": "stdout",
          "text": [
            "\u001b[2K     \u001b[90m━━━━━━━━━━━━━━━━━━━━━━━━━━━━━━━━━━━━━━━━\u001b[0m \u001b[32m63.1/63.1 kB\u001b[0m \u001b[31m2.7 MB/s\u001b[0m eta \u001b[36m0:00:00\u001b[0m\n",
            "\u001b[2K   \u001b[90m━━━━━━━━━━━━━━━━━━━━━━━━━━━━━━━━━━━━━━━━\u001b[0m \u001b[32m1.1/1.1 MB\u001b[0m \u001b[31m17.3 MB/s\u001b[0m eta \u001b[36m0:00:00\u001b[0m\n",
            "\u001b[?25h"
          ]
        }
      ],
      "source": [
        "! pip install torch-geometric -q"
      ]
    },
    {
      "cell_type": "code",
      "execution_count": 2,
      "id": "-1tHX9vQ6sDE",
      "metadata": {
        "id": "-1tHX9vQ6sDE",
        "colab": {
          "base_uri": "https://localhost:8080/"
        },
        "outputId": "228a8c1b-fea9-42b7-afeb-73304ab7201f"
      },
      "outputs": [
        {
          "output_type": "stream",
          "name": "stdout",
          "text": [
            "\u001b[2K   \u001b[90m━━━━━━━━━━━━━━━━━━━━━━━━━━━━━━━━━━━━━━━━\u001b[0m \u001b[32m7.4/7.4 MB\u001b[0m \u001b[31m34.2 MB/s\u001b[0m eta \u001b[36m0:00:00\u001b[0m\n",
            "\u001b[?25h"
          ]
        }
      ],
      "source": [
        "!pip install mne -q"
      ]
    },
    {
      "cell_type": "code",
      "execution_count": 3,
      "id": "ZYxul5xoR5hm",
      "metadata": {
        "id": "ZYxul5xoR5hm"
      },
      "outputs": [],
      "source": [
        "import pandas as pd\n",
        "import matplotlib.pyplot as plt\n",
        "import os\n",
        "import gzip\n",
        "import numpy as np\n",
        "import os\n",
        "import mne\n",
        "import json\n",
        "from torch_geometric.data import Data\n",
        "from sklearn.preprocessing import LabelEncoder\n",
        "from torch.nn import Module, Linear , LayerNorm, BatchNorm1d, Dropout\n",
        "#from torch_geometric.nn import GATConv\n",
        "from torch_geometric.nn import GATv2Conv\n",
        "import torch.nn.functional as F\n",
        "import torch\n",
        "from torch_geometric.nn import global_mean_pool, global_add_pool\n",
        "from torch_geometric.loader import DataLoader\n",
        "from torch.optim import Adam\n",
        "from sklearn.model_selection import train_test_split\n",
        "from sklearn.metrics import classification_report\n",
        "from sklearn.metrics import roc_curve, auc, roc_auc_score\n",
        "import networkx as nx\n",
        "from collections import Counter\n",
        "\n",
        "mne.set_log_level(\"ERROR\")"
      ]
    },
    {
      "cell_type": "markdown",
      "id": "AbJxO4Fiir7r",
      "metadata": {
        "id": "AbJxO4Fiir7r"
      },
      "source": [
        "### About Data\n",
        "\n",
        "Electroencephalography (EEG) data collected in people with epilepsy (N=163) and healthy controls (N=138) in two difficult-to-reach areas in rural Guinea-Bissau and Nigeria. Five minutes of fourteen channel resting-state EEG data were acquired with a portable, low-cost consumer-grade EEG recording headset. Experiments started either with two minutes of eyes closed or two minutes of eyes open which was randomized across participants. The order of the experiment is clarified in the meta-data files."
      ]
    },
    {
      "cell_type": "code",
      "execution_count": 4,
      "id": "Rwy1CPS2OEXC",
      "metadata": {
        "colab": {
          "base_uri": "https://localhost:8080/"
        },
        "id": "Rwy1CPS2OEXC",
        "outputId": "f14fe9e6-9012-42c8-a9fd-5ba35450ba4e"
      },
      "outputs": [
        {
          "output_type": "stream",
          "name": "stdout",
          "text": [
            "Mounted at /content/drive\n"
          ]
        }
      ],
      "source": [
        "from google.colab import drive\n",
        "drive.mount('/content/drive')"
      ]
    },
    {
      "cell_type": "code",
      "execution_count": 5,
      "id": "HiyNJc6rQn9i",
      "metadata": {
        "colab": {
          "base_uri": "https://localhost:8080/"
        },
        "id": "HiyNJc6rQn9i",
        "outputId": "781ec995-c4c1-495b-9cc4-d7a5004834e1"
      },
      "outputs": [
        {
          "output_type": "stream",
          "name": "stdout",
          "text": [
            "/content/drive/MyDrive/DATASET\n"
          ]
        }
      ],
      "source": [
        "%cd /content/drive/MyDrive/DATASET"
      ]
    },
    {
      "cell_type": "code",
      "execution_count": 6,
      "id": "200edfb0-6084-465a-96d4-0afb346ac6a2",
      "metadata": {
        "id": "200edfb0-6084-465a-96d4-0afb346ac6a2"
      },
      "outputs": [],
      "source": [
        "gb_df = pd.read_csv(\"metadata_guineabissau.csv\")"
      ]
    },
    {
      "cell_type": "code",
      "execution_count": 8,
      "id": "3d7091f9-103a-4581-b502-3d463d1e52f4",
      "metadata": {
        "colab": {
          "base_uri": "https://localhost:8080/",
          "height": 206
        },
        "id": "3d7091f9-103a-4581-b502-3d463d1e52f4",
        "outputId": "d17e4442-6383-4b4d-99d2-ae5a703c2624"
      },
      "outputs": [
        {
          "output_type": "execute_result",
          "data": {
            "text/plain": [
              "   subject.id     Group              Eyes.condition  \\\n",
              "0           1  Epilepsy  closed-3min-then-open-2min   \n",
              "1           2   Control  open-3min-then-closed-2min   \n",
              "2           3  Epilepsy  closed-3min-then-open-2min   \n",
              "3           4  Epilepsy  closed-3min-then-open-2min   \n",
              "4           5   Control  closed-3min-then-open-2min   \n",
              "\n",
              "                                       Remarks  recordedPeriod  \\\n",
              "0                 by 45s reposition electrodes             301   \n",
              "1                                          NaN             309   \n",
              "2                                          NaN             309   \n",
              "3  Green lights not shown, but good EEG traces             299   \n",
              "4                                          NaN             302   \n",
              "\n",
              "         startTime  \n",
              "0  27/5/2020 14:33  \n",
              "1  26/5/2020 22:44  \n",
              "2  27/5/2020 14:26  \n",
              "3  27/5/2020 15:23  \n",
              "4  23/5/2020 19:09  "
            ],
            "text/html": [
              "\n",
              "  <div id=\"df-19f02f6a-289a-4d07-95f4-e41d33ac3dce\" class=\"colab-df-container\">\n",
              "    <div>\n",
              "<style scoped>\n",
              "    .dataframe tbody tr th:only-of-type {\n",
              "        vertical-align: middle;\n",
              "    }\n",
              "\n",
              "    .dataframe tbody tr th {\n",
              "        vertical-align: top;\n",
              "    }\n",
              "\n",
              "    .dataframe thead th {\n",
              "        text-align: right;\n",
              "    }\n",
              "</style>\n",
              "<table border=\"1\" class=\"dataframe\">\n",
              "  <thead>\n",
              "    <tr style=\"text-align: right;\">\n",
              "      <th></th>\n",
              "      <th>subject.id</th>\n",
              "      <th>Group</th>\n",
              "      <th>Eyes.condition</th>\n",
              "      <th>Remarks</th>\n",
              "      <th>recordedPeriod</th>\n",
              "      <th>startTime</th>\n",
              "    </tr>\n",
              "  </thead>\n",
              "  <tbody>\n",
              "    <tr>\n",
              "      <th>0</th>\n",
              "      <td>1</td>\n",
              "      <td>Epilepsy</td>\n",
              "      <td>closed-3min-then-open-2min</td>\n",
              "      <td>by 45s reposition electrodes</td>\n",
              "      <td>301</td>\n",
              "      <td>27/5/2020 14:33</td>\n",
              "    </tr>\n",
              "    <tr>\n",
              "      <th>1</th>\n",
              "      <td>2</td>\n",
              "      <td>Control</td>\n",
              "      <td>open-3min-then-closed-2min</td>\n",
              "      <td>NaN</td>\n",
              "      <td>309</td>\n",
              "      <td>26/5/2020 22:44</td>\n",
              "    </tr>\n",
              "    <tr>\n",
              "      <th>2</th>\n",
              "      <td>3</td>\n",
              "      <td>Epilepsy</td>\n",
              "      <td>closed-3min-then-open-2min</td>\n",
              "      <td>NaN</td>\n",
              "      <td>309</td>\n",
              "      <td>27/5/2020 14:26</td>\n",
              "    </tr>\n",
              "    <tr>\n",
              "      <th>3</th>\n",
              "      <td>4</td>\n",
              "      <td>Epilepsy</td>\n",
              "      <td>closed-3min-then-open-2min</td>\n",
              "      <td>Green lights not shown, but good EEG traces</td>\n",
              "      <td>299</td>\n",
              "      <td>27/5/2020 15:23</td>\n",
              "    </tr>\n",
              "    <tr>\n",
              "      <th>4</th>\n",
              "      <td>5</td>\n",
              "      <td>Control</td>\n",
              "      <td>closed-3min-then-open-2min</td>\n",
              "      <td>NaN</td>\n",
              "      <td>302</td>\n",
              "      <td>23/5/2020 19:09</td>\n",
              "    </tr>\n",
              "  </tbody>\n",
              "</table>\n",
              "</div>\n",
              "    <div class=\"colab-df-buttons\">\n",
              "\n",
              "  <div class=\"colab-df-container\">\n",
              "    <button class=\"colab-df-convert\" onclick=\"convertToInteractive('df-19f02f6a-289a-4d07-95f4-e41d33ac3dce')\"\n",
              "            title=\"Convert this dataframe to an interactive table.\"\n",
              "            style=\"display:none;\">\n",
              "\n",
              "  <svg xmlns=\"http://www.w3.org/2000/svg\" height=\"24px\" viewBox=\"0 -960 960 960\">\n",
              "    <path d=\"M120-120v-720h720v720H120Zm60-500h600v-160H180v160Zm220 220h160v-160H400v160Zm0 220h160v-160H400v160ZM180-400h160v-160H180v160Zm440 0h160v-160H620v160ZM180-180h160v-160H180v160Zm440 0h160v-160H620v160Z\"/>\n",
              "  </svg>\n",
              "    </button>\n",
              "\n",
              "  <style>\n",
              "    .colab-df-container {\n",
              "      display:flex;\n",
              "      gap: 12px;\n",
              "    }\n",
              "\n",
              "    .colab-df-convert {\n",
              "      background-color: #E8F0FE;\n",
              "      border: none;\n",
              "      border-radius: 50%;\n",
              "      cursor: pointer;\n",
              "      display: none;\n",
              "      fill: #1967D2;\n",
              "      height: 32px;\n",
              "      padding: 0 0 0 0;\n",
              "      width: 32px;\n",
              "    }\n",
              "\n",
              "    .colab-df-convert:hover {\n",
              "      background-color: #E2EBFA;\n",
              "      box-shadow: 0px 1px 2px rgba(60, 64, 67, 0.3), 0px 1px 3px 1px rgba(60, 64, 67, 0.15);\n",
              "      fill: #174EA6;\n",
              "    }\n",
              "\n",
              "    .colab-df-buttons div {\n",
              "      margin-bottom: 4px;\n",
              "    }\n",
              "\n",
              "    [theme=dark] .colab-df-convert {\n",
              "      background-color: #3B4455;\n",
              "      fill: #D2E3FC;\n",
              "    }\n",
              "\n",
              "    [theme=dark] .colab-df-convert:hover {\n",
              "      background-color: #434B5C;\n",
              "      box-shadow: 0px 1px 3px 1px rgba(0, 0, 0, 0.15);\n",
              "      filter: drop-shadow(0px 1px 2px rgba(0, 0, 0, 0.3));\n",
              "      fill: #FFFFFF;\n",
              "    }\n",
              "  </style>\n",
              "\n",
              "    <script>\n",
              "      const buttonEl =\n",
              "        document.querySelector('#df-19f02f6a-289a-4d07-95f4-e41d33ac3dce button.colab-df-convert');\n",
              "      buttonEl.style.display =\n",
              "        google.colab.kernel.accessAllowed ? 'block' : 'none';\n",
              "\n",
              "      async function convertToInteractive(key) {\n",
              "        const element = document.querySelector('#df-19f02f6a-289a-4d07-95f4-e41d33ac3dce');\n",
              "        const dataTable =\n",
              "          await google.colab.kernel.invokeFunction('convertToInteractive',\n",
              "                                                    [key], {});\n",
              "        if (!dataTable) return;\n",
              "\n",
              "        const docLinkHtml = 'Like what you see? Visit the ' +\n",
              "          '<a target=\"_blank\" href=https://colab.research.google.com/notebooks/data_table.ipynb>data table notebook</a>'\n",
              "          + ' to learn more about interactive tables.';\n",
              "        element.innerHTML = '';\n",
              "        dataTable['output_type'] = 'display_data';\n",
              "        await google.colab.output.renderOutput(dataTable, element);\n",
              "        const docLink = document.createElement('div');\n",
              "        docLink.innerHTML = docLinkHtml;\n",
              "        element.appendChild(docLink);\n",
              "      }\n",
              "    </script>\n",
              "  </div>\n",
              "\n",
              "\n",
              "<div id=\"df-9377a506-af45-4b5c-a8c6-05a3e044f684\">\n",
              "  <button class=\"colab-df-quickchart\" onclick=\"quickchart('df-9377a506-af45-4b5c-a8c6-05a3e044f684')\"\n",
              "            title=\"Suggest charts\"\n",
              "            style=\"display:none;\">\n",
              "\n",
              "<svg xmlns=\"http://www.w3.org/2000/svg\" height=\"24px\"viewBox=\"0 0 24 24\"\n",
              "     width=\"24px\">\n",
              "    <g>\n",
              "        <path d=\"M19 3H5c-1.1 0-2 .9-2 2v14c0 1.1.9 2 2 2h14c1.1 0 2-.9 2-2V5c0-1.1-.9-2-2-2zM9 17H7v-7h2v7zm4 0h-2V7h2v10zm4 0h-2v-4h2v4z\"/>\n",
              "    </g>\n",
              "</svg>\n",
              "  </button>\n",
              "\n",
              "<style>\n",
              "  .colab-df-quickchart {\n",
              "      --bg-color: #E8F0FE;\n",
              "      --fill-color: #1967D2;\n",
              "      --hover-bg-color: #E2EBFA;\n",
              "      --hover-fill-color: #174EA6;\n",
              "      --disabled-fill-color: #AAA;\n",
              "      --disabled-bg-color: #DDD;\n",
              "  }\n",
              "\n",
              "  [theme=dark] .colab-df-quickchart {\n",
              "      --bg-color: #3B4455;\n",
              "      --fill-color: #D2E3FC;\n",
              "      --hover-bg-color: #434B5C;\n",
              "      --hover-fill-color: #FFFFFF;\n",
              "      --disabled-bg-color: #3B4455;\n",
              "      --disabled-fill-color: #666;\n",
              "  }\n",
              "\n",
              "  .colab-df-quickchart {\n",
              "    background-color: var(--bg-color);\n",
              "    border: none;\n",
              "    border-radius: 50%;\n",
              "    cursor: pointer;\n",
              "    display: none;\n",
              "    fill: var(--fill-color);\n",
              "    height: 32px;\n",
              "    padding: 0;\n",
              "    width: 32px;\n",
              "  }\n",
              "\n",
              "  .colab-df-quickchart:hover {\n",
              "    background-color: var(--hover-bg-color);\n",
              "    box-shadow: 0 1px 2px rgba(60, 64, 67, 0.3), 0 1px 3px 1px rgba(60, 64, 67, 0.15);\n",
              "    fill: var(--button-hover-fill-color);\n",
              "  }\n",
              "\n",
              "  .colab-df-quickchart-complete:disabled,\n",
              "  .colab-df-quickchart-complete:disabled:hover {\n",
              "    background-color: var(--disabled-bg-color);\n",
              "    fill: var(--disabled-fill-color);\n",
              "    box-shadow: none;\n",
              "  }\n",
              "\n",
              "  .colab-df-spinner {\n",
              "    border: 2px solid var(--fill-color);\n",
              "    border-color: transparent;\n",
              "    border-bottom-color: var(--fill-color);\n",
              "    animation:\n",
              "      spin 1s steps(1) infinite;\n",
              "  }\n",
              "\n",
              "  @keyframes spin {\n",
              "    0% {\n",
              "      border-color: transparent;\n",
              "      border-bottom-color: var(--fill-color);\n",
              "      border-left-color: var(--fill-color);\n",
              "    }\n",
              "    20% {\n",
              "      border-color: transparent;\n",
              "      border-left-color: var(--fill-color);\n",
              "      border-top-color: var(--fill-color);\n",
              "    }\n",
              "    30% {\n",
              "      border-color: transparent;\n",
              "      border-left-color: var(--fill-color);\n",
              "      border-top-color: var(--fill-color);\n",
              "      border-right-color: var(--fill-color);\n",
              "    }\n",
              "    40% {\n",
              "      border-color: transparent;\n",
              "      border-right-color: var(--fill-color);\n",
              "      border-top-color: var(--fill-color);\n",
              "    }\n",
              "    60% {\n",
              "      border-color: transparent;\n",
              "      border-right-color: var(--fill-color);\n",
              "    }\n",
              "    80% {\n",
              "      border-color: transparent;\n",
              "      border-right-color: var(--fill-color);\n",
              "      border-bottom-color: var(--fill-color);\n",
              "    }\n",
              "    90% {\n",
              "      border-color: transparent;\n",
              "      border-bottom-color: var(--fill-color);\n",
              "    }\n",
              "  }\n",
              "</style>\n",
              "\n",
              "  <script>\n",
              "    async function quickchart(key) {\n",
              "      const quickchartButtonEl =\n",
              "        document.querySelector('#' + key + ' button');\n",
              "      quickchartButtonEl.disabled = true;  // To prevent multiple clicks.\n",
              "      quickchartButtonEl.classList.add('colab-df-spinner');\n",
              "      try {\n",
              "        const charts = await google.colab.kernel.invokeFunction(\n",
              "            'suggestCharts', [key], {});\n",
              "      } catch (error) {\n",
              "        console.error('Error during call to suggestCharts:', error);\n",
              "      }\n",
              "      quickchartButtonEl.classList.remove('colab-df-spinner');\n",
              "      quickchartButtonEl.classList.add('colab-df-quickchart-complete');\n",
              "    }\n",
              "    (() => {\n",
              "      let quickchartButtonEl =\n",
              "        document.querySelector('#df-9377a506-af45-4b5c-a8c6-05a3e044f684 button');\n",
              "      quickchartButtonEl.style.display =\n",
              "        google.colab.kernel.accessAllowed ? 'block' : 'none';\n",
              "    })();\n",
              "  </script>\n",
              "</div>\n",
              "\n",
              "    </div>\n",
              "  </div>\n"
            ],
            "application/vnd.google.colaboratory.intrinsic+json": {
              "type": "dataframe",
              "variable_name": "gb_df",
              "summary": "{\n  \"name\": \"gb_df\",\n  \"rows\": 97,\n  \"fields\": [\n    {\n      \"column\": \"subject.id\",\n      \"properties\": {\n        \"dtype\": \"number\",\n        \"std\": 28,\n        \"min\": 1,\n        \"max\": 97,\n        \"num_unique_values\": 97,\n        \"samples\": [\n          63,\n          41,\n          94\n        ],\n        \"semantic_type\": \"\",\n        \"description\": \"\"\n      }\n    },\n    {\n      \"column\": \"Group\",\n      \"properties\": {\n        \"dtype\": \"category\",\n        \"num_unique_values\": 2,\n        \"samples\": [\n          \"Control\",\n          \"Epilepsy\"\n        ],\n        \"semantic_type\": \"\",\n        \"description\": \"\"\n      }\n    },\n    {\n      \"column\": \"Eyes.condition\",\n      \"properties\": {\n        \"dtype\": \"category\",\n        \"num_unique_values\": 2,\n        \"samples\": [\n          \"open-3min-then-closed-2min\",\n          \"closed-3min-then-open-2min\"\n        ],\n        \"semantic_type\": \"\",\n        \"description\": \"\"\n      }\n    },\n    {\n      \"column\": \"Remarks\",\n      \"properties\": {\n        \"dtype\": \"category\",\n        \"num_unique_values\": 22,\n        \"samples\": [\n          \"by 45s reposition electrodes\",\n          \"OC yellow/orange signal\"\n        ],\n        \"semantic_type\": \"\",\n        \"description\": \"\"\n      }\n    },\n    {\n      \"column\": \"recordedPeriod\",\n      \"properties\": {\n        \"dtype\": \"number\",\n        \"std\": 27,\n        \"min\": 286,\n        \"max\": 478,\n        \"num_unique_values\": 33,\n        \"samples\": [\n          295,\n          425\n        ],\n        \"semantic_type\": \"\",\n        \"description\": \"\"\n      }\n    },\n    {\n      \"column\": \"startTime\",\n      \"properties\": {\n        \"dtype\": \"object\",\n        \"num_unique_values\": 97,\n        \"samples\": [\n          \"27/5/2020 14:52\",\n          \"27/5/2020 14:02\"\n        ],\n        \"semantic_type\": \"\",\n        \"description\": \"\"\n      }\n    }\n  ]\n}"
            }
          },
          "metadata": {},
          "execution_count": 8
        }
      ],
      "source": [
        "gb_df.head(5)"
      ]
    },
    {
      "cell_type": "code",
      "execution_count": 7,
      "id": "5e38ec88-82f6-422e-8486-f82d283b1d50",
      "metadata": {
        "id": "5e38ec88-82f6-422e-8486-f82d283b1d50"
      },
      "outputs": [],
      "source": [
        "ni_df = pd.read_csv(\"metadata_nigeria.csv\")"
      ]
    },
    {
      "cell_type": "code",
      "execution_count": null,
      "id": "134d0f2b-f164-4e86-8ec7-02683fe5b13e",
      "metadata": {
        "id": "134d0f2b-f164-4e86-8ec7-02683fe5b13e"
      },
      "outputs": [],
      "source": [
        "ni_df.head(5)"
      ]
    },
    {
      "cell_type": "markdown",
      "id": "fB3u0CIZNXaQ",
      "metadata": {
        "id": "fB3u0CIZNXaQ"
      },
      "source": [
        "## Datasets transformations"
      ]
    },
    {
      "cell_type": "code",
      "execution_count": 8,
      "id": "hHgp6Dt1NUX7",
      "metadata": {
        "id": "hHgp6Dt1NUX7"
      },
      "outputs": [],
      "source": [
        "def file_exists(file_path):\n",
        "    return os.path.isfile(file_path)"
      ]
    },
    {
      "cell_type": "markdown",
      "id": "rBpBeqrm2RCk",
      "metadata": {
        "id": "rBpBeqrm2RCk"
      },
      "source": [
        "### Nigeria"
      ]
    },
    {
      "cell_type": "markdown",
      "id": "7vJHNL2HNm6g",
      "metadata": {
        "id": "7vJHNL2HNm6g"
      },
      "source": [
        "Adding new columns"
      ]
    },
    {
      "cell_type": "code",
      "execution_count": 9,
      "id": "TeDNSsV83WZn",
      "metadata": {
        "id": "TeDNSsV83WZn"
      },
      "outputs": [],
      "source": [
        "ni_df[\"Eyes.condition\"] = ni_df[\"first_condition\"].apply(lambda x: \"open-3min-then-closed-2min\" if x == \"open\" else \"closed-3min-then-open-2min\")\n",
        "# ni_df[\"csv.file\"] = ni_df[\"csv.file\"].apply(lambda x: \"EEGs_Nigeria/\"+x)\n",
        "ni_df[\"csv.file\"] = ni_df[\"csv.file\"].apply(lambda x: \"EEGs_Nigeria/\"+x)\n",
        "ni_df[\"Group\"] = ni_df[\"Group\"].apply(lambda x: x.title())\n",
        "ni_df[\"subject.id\"] = ni_df[\"subject.id\"].apply(lambda x: \"NI-\" + str(x))\n",
        "ni_df[\"Country\"] = \"Nigeria\"\n",
        "ni_df['file_exists'] = ni_df['csv.file'].apply(lambda x: file_exists(x))\n",
        "ni_df = ni_df.drop(columns=['session.id'])"
      ]
    },
    {
      "cell_type": "code",
      "execution_count": 10,
      "id": "_84Dn3KGrYHB",
      "metadata": {
        "id": "_84Dn3KGrYHB"
      },
      "outputs": [],
      "source": [
        "def count_rows(file):\n",
        "  data = pd.read_csv(file, compression='gzip',\n",
        "                   on_bad_lines='skip')\n",
        "  return len(data)"
      ]
    },
    {
      "cell_type": "code",
      "execution_count": null,
      "id": "ixocG3mUokZ8",
      "metadata": {
        "id": "ixocG3mUokZ8"
      },
      "outputs": [],
      "source": [
        "ni_df.head(5)"
      ]
    },
    {
      "cell_type": "code",
      "execution_count": 11,
      "id": "ojd81eBPeXxd",
      "metadata": {
        "cellView": "form",
        "colab": {
          "base_uri": "https://localhost:8080/",
          "height": 639
        },
        "id": "ojd81eBPeXxd",
        "outputId": "6c137d8e-9b33-4890-df48-ab81cec1a20c"
      },
      "outputs": [
        {
          "output_type": "stream",
          "name": "stdout",
          "text": [
            "https://docs.google.com/spreadsheets/d/1zjprOANMuVy6g_HYm4Tp-UU4VQCGZasmkqWQGCSiIqY/edit#gid=0\n"
          ]
        },
        {
          "output_type": "display_data",
          "data": {
            "text/plain": [
              "<IPython.lib.display.IFrame at 0x79dd0e8bac90>"
            ],
            "text/html": [
              "\n",
              "        <iframe\n",
              "            width=\"100%\"\n",
              "            height=\"600\"\n",
              "            src=\"https://docs.google.com/spreadsheets/d/1zjprOANMuVy6g_HYm4Tp-UU4VQCGZasmkqWQGCSiIqY/edit?rm=embedded#gid=0\"\n",
              "            frameborder=\"0\"\n",
              "            allowfullscreen\n",
              "            \n",
              "        ></iframe>\n",
              "        "
            ]
          },
          "metadata": {}
        }
      ],
      "source": [
        "from google.colab import sheets\n",
        "sheet = sheets.InteractiveSheet(df=ni_df)"
      ]
    },
    {
      "cell_type": "markdown",
      "id": "MoZjTyMjNrCK",
      "metadata": {
        "id": "MoZjTyMjNrCK"
      },
      "source": [
        "Some data cleaning will be required"
      ]
    },
    {
      "cell_type": "code",
      "execution_count": null,
      "id": "-r0HSbCLJKhs",
      "metadata": {
        "id": "-r0HSbCLJKhs"
      },
      "outputs": [],
      "source": [
        "ni_df[ni_df[\"recordedPeriod\"]<200]"
      ]
    },
    {
      "cell_type": "code",
      "execution_count": null,
      "id": "Nle4rOsCHQ7u",
      "metadata": {
        "id": "Nle4rOsCHQ7u"
      },
      "outputs": [],
      "source": [
        "(ni_df[ni_df[\"recordedPeriod\"]<200])[\"remarks\"].unique()"
      ]
    },
    {
      "cell_type": "markdown",
      "id": "i63b5YwPE8GT",
      "metadata": {
        "id": "i63b5YwPE8GT"
      },
      "source": [
        "Removing data where dataset are not found in the files. Removing as well data for subject 124 as sample is split in two and difficult to generalize with the rest of data. Removing data that is marked for removal in the remarks - either mistake was made during a recording, recording was too short or poor quality."
      ]
    },
    {
      "cell_type": "code",
      "execution_count": 12,
      "id": "j93sw9-KM4Uw",
      "metadata": {
        "id": "j93sw9-KM4Uw"
      },
      "outputs": [],
      "source": [
        "samples_to_remove = [\"NI-124\", \"NI-536\", \"NI-522\", \"NI-508\", \"NI-515\", \"NI-580\"]"
      ]
    },
    {
      "cell_type": "code",
      "execution_count": 13,
      "id": "Svc_2r_WErsu",
      "metadata": {
        "colab": {
          "base_uri": "https://localhost:8080/"
        },
        "id": "Svc_2r_WErsu",
        "outputId": "69702394-45b5-4ae2-ee5c-155423460a93"
      },
      "outputs": [
        {
          "output_type": "stream",
          "name": "stdout",
          "text": [
            "    subject.id  recordedPeriod        startTime first_condition  \\\n",
            "0         NI-6             270  26/9/2016 13:13            open   \n",
            "1         NI-9             271  26/9/2016 13:30          closed   \n",
            "2        NI-10             272  26/9/2016 13:36            open   \n",
            "3        NI-11             274  26/9/2016 13:42          closed   \n",
            "4        NI-12             271  26/9/2016 13:47            open   \n",
            "..         ...             ...              ...             ...   \n",
            "216     NI-634             268  1/10/2016 16:25          closed   \n",
            "217     NI-635             268  1/10/2016 16:31            open   \n",
            "218     NI-636             268  1/10/2016 16:36          closed   \n",
            "219     NI-637             268  1/10/2016 16:43            open   \n",
            "220     NI-638             273  1/10/2016 16:49          closed   \n",
            "\n",
            "                                               remarks     Group  \\\n",
            "0                                                  NaN   Control   \n",
            "1                                                  NaN   Control   \n",
            "2                                  eyes closed at 2:40   Control   \n",
            "3            no.11.1 failed  >>  11.2 is the right one   Control   \n",
            "4                                                  NaN   Control   \n",
            "..                                                 ...       ...   \n",
            "216                                                NaN  Epilepsy   \n",
            "217  Every day a convulsion + snapt het niet goed, ...  Epilepsy   \n",
            "218                                                NaN  Epilepsy   \n",
            "219                                                NaN  Epilepsy   \n",
            "220                             Medicijn Carbamazepin   Epilepsy   \n",
            "\n",
            "                             csv.file              Eyes.condition  Country  \\\n",
            "0      EEGs_Nigeria/signal-6-1.csv.gz  open-3min-then-closed-2min  Nigeria   \n",
            "1      EEGs_Nigeria/signal-9-1.csv.gz  closed-3min-then-open-2min  Nigeria   \n",
            "2     EEGs_Nigeria/signal-10-1.csv.gz  open-3min-then-closed-2min  Nigeria   \n",
            "3     EEGs_Nigeria/signal-11-2.csv.gz  closed-3min-then-open-2min  Nigeria   \n",
            "4     EEGs_Nigeria/signal-12-1.csv.gz  open-3min-then-closed-2min  Nigeria   \n",
            "..                                ...                         ...      ...   \n",
            "216  EEGs_Nigeria/signal-634-1.csv.gz  closed-3min-then-open-2min  Nigeria   \n",
            "217  EEGs_Nigeria/signal-635-1.csv.gz  open-3min-then-closed-2min  Nigeria   \n",
            "218  EEGs_Nigeria/signal-636-1.csv.gz  closed-3min-then-open-2min  Nigeria   \n",
            "219  EEGs_Nigeria/signal-637-1.csv.gz  open-3min-then-closed-2min  Nigeria   \n",
            "220  EEGs_Nigeria/signal-638-1.csv.gz  closed-3min-then-open-2min  Nigeria   \n",
            "\n",
            "     file_exists  \n",
            "0           True  \n",
            "1           True  \n",
            "2           True  \n",
            "3           True  \n",
            "4           True  \n",
            "..           ...  \n",
            "216         True  \n",
            "217         True  \n",
            "218         True  \n",
            "219         True  \n",
            "220         True  \n",
            "\n",
            "[214 rows x 10 columns]\n"
          ]
        }
      ],
      "source": [
        "ni_df = ni_df[(ni_df['file_exists']) & (~ni_df['subject.id'].isin(samples_to_remove))]\n",
        "ni_df = ni_df[(ni_df['file_exists']) & (~ni_df['subject.id'].isin(samples_to_remove))]\n",
        "\n",
        "# Check the result\n",
        "print(ni_df)"
      ]
    },
    {
      "cell_type": "code",
      "execution_count": 14,
      "id": "hxvSOwP5rzI6",
      "metadata": {
        "id": "hxvSOwP5rzI6"
      },
      "outputs": [],
      "source": [
        "ni_df[\"file_rows_count\"] = ni_df[\"csv.file\"].apply(lambda x: count_rows(x))"
      ]
    },
    {
      "cell_type": "code",
      "execution_count": null,
      "id": "DYhO77Wsm3eV",
      "metadata": {
        "id": "DYhO77Wsm3eV"
      },
      "outputs": [],
      "source": [
        "ni_df.head(5)"
      ]
    },
    {
      "cell_type": "markdown",
      "id": "y5UA83fAOHLd",
      "metadata": {
        "id": "y5UA83fAOHLd"
      },
      "source": [
        "### Guinea-Bissau"
      ]
    },
    {
      "cell_type": "markdown",
      "id": "XiIezqyNOdwG",
      "metadata": {
        "id": "XiIezqyNOdwG"
      },
      "source": [
        "Adding new columns"
      ]
    },
    {
      "cell_type": "code",
      "execution_count": null,
      "id": "SB0VC8VxOdwH",
      "metadata": {
        "id": "SB0VC8VxOdwH"
      },
      "outputs": [],
      "source": [
        "gb_df[\"first_condition\"] = gb_df['Eyes.condition'].str.split('-').str[0]\n",
        "gb_df[\"csv.file\"] = gb_df[\"subject.id\"].apply(lambda x: \"EEGs_Guinea-Bissau/signal-\" + str(x) + \".csv.gz\")\n",
        "gb_df[\"Group\"] = gb_df[\"Group\"].apply(lambda x: x.title())\n",
        "gb_df[\"subject.id\"] = gb_df[\"subject.id\"].apply(lambda x: \"GB-\" + str(x))\n",
        "gb_df[\"Country\"] = \"Guinea Bissau\"\n",
        "gb_df['file_exists'] = gb_df['csv.file'].apply(lambda x: file_exists(x))"
      ]
    },
    {
      "cell_type": "code",
      "execution_count": null,
      "id": "Yi1cyKpn81Tc",
      "metadata": {
        "id": "Yi1cyKpn81Tc"
      },
      "outputs": [],
      "source": [
        "gb_df = gb_df[(gb_df['file_exists'])]"
      ]
    },
    {
      "cell_type": "code",
      "execution_count": null,
      "id": "oNyG0Thw81Td",
      "metadata": {
        "id": "oNyG0Thw81Td"
      },
      "outputs": [],
      "source": [
        "gb_df[\"file_rows_count\"] = gb_df[\"csv.file\"].apply(lambda x: count_rows(x))"
      ]
    },
    {
      "cell_type": "code",
      "execution_count": null,
      "id": "4TsGBIEc81Td",
      "metadata": {
        "id": "4TsGBIEc81Td"
      },
      "outputs": [],
      "source": [
        "gb_df.head(5)"
      ]
    },
    {
      "cell_type": "markdown",
      "id": "47y59ltIObkK",
      "metadata": {
        "id": "47y59ltIObkK"
      },
      "source": [
        "## Display data"
      ]
    },
    {
      "cell_type": "code",
      "execution_count": null,
      "id": "d298774a-4c13-496c-8821-dc8e475591bf",
      "metadata": {
        "id": "d298774a-4c13-496c-8821-dc8e475591bf"
      },
      "outputs": [],
      "source": [
        "def plot_frequency_all(path):\n",
        "\n",
        "    data = pd.read_csv(path, compression='gzip',\n",
        "                       on_bad_lines='skip')\n",
        "\n",
        "    # Get the x-axis (first column) and the y-values (all other columns)\n",
        "    x = data.iloc[:, 0]\n",
        "    columns = data.columns[1:15]  # Skip the first column for the y-values\n",
        "\n",
        "    # Create subplots\n",
        "    fig, axes = plt.subplots(nrows=len(columns), ncols=1, figsize=(12, 20), sharex=True)\n",
        "\n",
        "    for i, col in enumerate(columns):\n",
        "        axes[i].plot(x, data[col], label=col)\n",
        "        axes[i].set_title(col)\n",
        "        axes[i].set_ylabel(\"Value\")\n",
        "        axes[i].grid(True)\n",
        "        axes[i].legend()\n",
        "\n",
        "    # Set common x-label\n",
        "    plt.xlabel(\"Index\")\n",
        "    # plt.tight_layout()\n",
        "    plt.show()"
      ]
    },
    {
      "cell_type": "code",
      "execution_count": null,
      "id": "IeQD3ZU_gzup",
      "metadata": {
        "id": "IeQD3ZU_gzup"
      },
      "outputs": [],
      "source": [
        "def plot_frequency_closed(path, ni_df):\n",
        "    \"\"\"\n",
        "    Plot the frequency data from the specified .gz file, displaying only a subset\n",
        "    of rows based on the `first_condition` and `row_count` from the ni_df dataframe.\n",
        "    Purpose is cutting data to only the data that represent closed eyes state.\n",
        "\n",
        "    Parameters:\n",
        "        path (str): Path to the .gz file.\n",
        "        ni_df (pd.DataFrame): DataFrame containing metadata about the files, including\n",
        "                              `row_count` and `first_condition`.\n",
        "    \"\"\"\n",
        "    # Lookup row_count and first_condition in ni_df\n",
        "    row_info = ni_df[ni_df['csv.file'] == path]\n",
        "\n",
        "    if row_info.empty:\n",
        "        raise ValueError(f\"No matching entry found for file path: {path}\")\n",
        "\n",
        "    row_count = row_info['file_rows_count'].values[0]\n",
        "    first_condition = row_info['first_condition'].values[0]\n",
        "\n",
        "    # Calculate the number of rows to read (0.4 of the total rows)\n",
        "    rows_to_read = int(row_count * 0.4)\n",
        "\n",
        "    # Load the relevant portion of data\n",
        "    with gzip.open(path, 'rt') as f:\n",
        "        if first_condition == \"closed\":\n",
        "            # Read the first 0.4 of rows, including the header\n",
        "            data = pd.read_csv(f, nrows=rows_to_read + 1)  # +1 to include the header\n",
        "        elif first_condition == \"open\":\n",
        "            # Calculate how many rows to skip but include the header\n",
        "            skip_rows = row_count - rows_to_read\n",
        "            data = pd.read_csv(f, skiprows=range(1, skip_rows + 1))  # Skip initial rows but not the header\n",
        "        else:\n",
        "            raise ValueError(f\"Invalid first_condition: {first_condition}. Must be 'open' or 'closed'.\")\n",
        "\n",
        "    # Get the x-axis (first column) and the y-values (all other columns)\n",
        "    x = data.iloc[:, 0]\n",
        "    columns = data.columns[1:15]  # Use the first 14 columns after the x-axis for plotting\n",
        "\n",
        "    # Create subplots\n",
        "    fig, axes = plt.subplots(nrows=len(columns), ncols=1, figsize=(12, 20), sharex=True)\n",
        "\n",
        "    for i, col in enumerate(columns):\n",
        "        axes[i].plot(x, data[col], label=col)\n",
        "        axes[i].set_title(col)\n",
        "        axes[i].set_ylabel(\"Value\")\n",
        "        axes[i].grid(True)\n",
        "        axes[i].legend()\n",
        "\n",
        "    # Set common x-label\n",
        "    plt.xlabel(\"Index\")\n",
        "    plt.tight_layout()\n",
        "    plt.show()\n"
      ]
    },
    {
      "cell_type": "markdown",
      "id": "0yPr5sG4f1nH",
      "metadata": {
        "id": "0yPr5sG4f1nH"
      },
      "source": [
        "Let's see some example data from samples"
      ]
    },
    {
      "cell_type": "code",
      "execution_count": 15,
      "id": "6543580a-eda9-4c1a-ad96-5d8675faea08",
      "metadata": {
        "id": "6543580a-eda9-4c1a-ad96-5d8675faea08"
      },
      "outputs": [],
      "source": [
        "data = pd.read_csv('EEGs_Nigeria/signal-10-1.csv.gz',    on_bad_lines='skip')"
      ]
    },
    {
      "cell_type": "code",
      "execution_count": null,
      "id": "b87f1866-c067-42de-b802-0f2248f5a5a6",
      "metadata": {
        "id": "b87f1866-c067-42de-b802-0f2248f5a5a6"
      },
      "outputs": [],
      "source": [
        "data"
      ]
    },
    {
      "cell_type": "code",
      "execution_count": null,
      "id": "ZgRpu6Fpnpae",
      "metadata": {
        "id": "ZgRpu6Fpnpae"
      },
      "outputs": [],
      "source": [
        "data.info()"
      ]
    },
    {
      "cell_type": "markdown",
      "id": "JHjzkw5ieT2b",
      "metadata": {
        "id": "JHjzkw5ieT2b"
      },
      "source": [
        "Let's take a look at the plots for some sample signal."
      ]
    },
    {
      "cell_type": "code",
      "execution_count": null,
      "id": "3f394e4b-8963-47d7-9176-6d7790127199",
      "metadata": {
        "id": "3f394e4b-8963-47d7-9176-6d7790127199"
      },
      "outputs": [],
      "source": [
        "plot_frequency_all(\"EEGs_Nigeria/signal-10-1.csv.gz\")"
      ]
    },
    {
      "cell_type": "markdown",
      "id": "gEALSCNFeNiJ",
      "metadata": {
        "id": "gEALSCNFeNiJ"
      },
      "source": [
        "Display frequencies plot only for the closed eyes state."
      ]
    },
    {
      "cell_type": "code",
      "execution_count": null,
      "id": "ClmV240WhGLo",
      "metadata": {
        "id": "ClmV240WhGLo"
      },
      "outputs": [],
      "source": [
        "plot_frequency_closed(\"EEGs_Nigeria/signal-10-1.csv.gz\", ni_df)"
      ]
    },
    {
      "cell_type": "markdown",
      "id": "v_0oh0RNeg0W",
      "metadata": {
        "id": "v_0oh0RNeg0W"
      },
      "source": [
        "Same for Guinea-Bissau data."
      ]
    },
    {
      "cell_type": "code",
      "execution_count": 16,
      "id": "4XjJAiOxgFSt",
      "metadata": {
        "id": "4XjJAiOxgFSt"
      },
      "outputs": [],
      "source": [
        "data = pd.read_csv('EEGs_Guinea-Bissau/signal-1.csv.gz', compression='gzip',\n",
        "                   on_bad_lines='skip')"
      ]
    },
    {
      "cell_type": "code",
      "execution_count": null,
      "id": "SrygAZFGgFSt",
      "metadata": {
        "id": "SrygAZFGgFSt"
      },
      "outputs": [],
      "source": [
        "data"
      ]
    },
    {
      "cell_type": "code",
      "execution_count": null,
      "id": "rdE_2-X0n2uq",
      "metadata": {
        "id": "rdE_2-X0n2uq"
      },
      "outputs": [],
      "source": [
        "data.info()"
      ]
    },
    {
      "cell_type": "code",
      "execution_count": null,
      "id": "FJWK5TNbgFSt",
      "metadata": {
        "id": "FJWK5TNbgFSt"
      },
      "outputs": [],
      "source": [
        "plot_frequency_all(\"EEGs_Guinea-Bissau/signal-10.csv.gz\")"
      ]
    },
    {
      "cell_type": "code",
      "execution_count": null,
      "id": "HymdbJyFrYvN",
      "metadata": {
        "id": "HymdbJyFrYvN"
      },
      "outputs": [],
      "source": [
        "plot_frequency_closed(\"EEGs_Guinea-Bissau/signal-10.csv.gz\", gb_df)"
      ]
    },
    {
      "cell_type": "markdown",
      "id": "xxc7rNzIp_P-",
      "metadata": {
        "id": "xxc7rNzIp_P-"
      },
      "source": [
        "## Building Pipeline and model"
      ]
    },
    {
      "cell_type": "code",
      "execution_count": null,
      "id": "WLTjDU5OaIre",
      "metadata": {
        "id": "WLTjDU5OaIre"
      },
      "outputs": [],
      "source": []
    },
    {
      "cell_type": "markdown",
      "id": "LiQHkdJryNLE",
      "metadata": {
        "id": "LiQHkdJryNLE"
      },
      "source": [
        "### Load and process EEG data"
      ]
    },
    {
      "cell_type": "markdown",
      "id": "D_vtKQzEkeRF",
      "metadata": {
        "id": "D_vtKQzEkeRF"
      },
      "source": [
        "In this step, we define a function to load EEG data stored in .gz files."
      ]
    },
    {
      "cell_type": "code",
      "execution_count": 17,
      "id": "xVrKpH7jyMuQ",
      "metadata": {
        "id": "xVrKpH7jyMuQ"
      },
      "outputs": [],
      "source": [
        "def load_eeg_from_gz(file_path, row_count, first_condition):\n",
        "    \"\"\"\n",
        "    Load a specific portion of the data from a .gz file based on the condition.\n",
        "    Required to cut dataset only to the closed eyes data.\n",
        "    Parameters:\n",
        "        file_path (str): Path to the .gz file.\n",
        "        row_count (int): Total number of rows in the file.\n",
        "        first_condition (str): Condition to decide which portion of data to load (\"open\" or \"closed\").\n",
        "\n",
        "    Returns:\n",
        "        pd.DataFrame: Subset of the EEG data.\n",
        "    \"\"\"\n",
        "    perc =0.5\n",
        "    # Calculate the number of rows to read (0.4 of the total rows)\n",
        "    rows_to_read = int(row_count * perc)\n",
        "\n",
        "    with gzip.open(file_path, 'rt') as f:\n",
        "      if first_condition == \"closed\":\n",
        "            # Read the first 0.perc of rows\n",
        "            eeg_data = pd.read_csv(f, nrows=rows_to_read)\n",
        "      elif first_condition == \"open\":\n",
        "            # Skip rows to get the last perc.4 of rows\n",
        "            skip_rows = row_count - rows_to_read\n",
        "            eeg_data = pd.read_csv(f, skiprows=range(1, skip_rows + 1))  # Skip the header and initial rows\n",
        "      else:\n",
        "            raise ValueError(f\"Invalid first_condition: {first_condition}. Must be 'open' or 'closed'.\")\n",
        "\n",
        "    return eeg_data"
      ]
    },
    {
      "cell_type": "markdown",
      "id": "f4ojZxVBkh9x",
      "metadata": {
        "id": "f4ojZxVBkh9x"
      },
      "source": [
        "Next, we preprocess the raw EEG data. This involves:\n",
        "\n",
        "1. Selecting Relevant Columns: Extracting columns that represent EEG channels.\n",
        "2. Creating an `MNE RawArray` Object: Converting the DataFrame into an MNE object to take advantage of its built-in signal processing functions.\n",
        "3. Applying Bandpass Filtering: Filtering the signal to focus on relevant frequencies (1–30 Hz) and remove noise."
      ]
    },
    {
      "cell_type": "code",
      "execution_count": 18,
      "id": "HGD6P8WA7uJN",
      "metadata": {
        "id": "HGD6P8WA7uJN"
      },
      "outputs": [],
      "source": [
        "# @title Default title text\n",
        "def preprocess_eeg(raw_data, low_freq=1, high_freq=30, sfreq=128):\n",
        "    # Extract columns 1–14 (EEG data)\n",
        "    eeg_data = raw_data.iloc[:, 0:14]\n",
        "    ch_names = eeg_data.columns.tolist()  # Channel names (columns 1–14)\n",
        "    ch_types = [\"eeg\"] * len(ch_names)  # All channels as EEG\n",
        "\n",
        "    # Create MNE RawArray object\n",
        "    raw_array = mne.io.RawArray(\n",
        "        eeg_data.values.T,\n",
        "        mne.create_info(ch_names=ch_names, sfreq=sfreq, ch_types=ch_types)\n",
        "    )\n",
        "    raw_array .set_eeg_reference()\n",
        "\n",
        "    # Bandpass filtering (1–30 Hz)\n",
        "    raw_array.filter(low_freq, high_freq, fir_design='firwin')\n",
        "\n",
        "   #epochs=mne.make_fixed_length_epochs(data,duration=5,overlap=1)\n",
        "   # epochs=epochs.drop_bad()\n",
        "\n",
        "\n",
        "    #raw_array = normalize_amplitude(raw_array)\n",
        "    return raw_array\n",
        "\n",
        "\n",
        "def preprocess_eeg_with_epochs(raw_data, duration=5, overlap=1, sfreq=128):\n",
        "    \"\"\"\n",
        "    Preprocess EEG data with epoching and filtering.\n",
        "\n",
        "    Parameters:\n",
        "    -----------\n",
        "    raw_data : pd.DataFrame\n",
        "        Raw EEG data\n",
        "    duration : float\n",
        "        Duration of each epoch in seconds\n",
        "    overlap : float\n",
        "        Overlap between epochs in seconds\n",
        "    sfreq : float\n",
        "        Sampling frequency\n",
        "\n",
        "    Returns:\n",
        "    --------\n",
        "    epochs : mne.Epochs\n",
        "        Preprocessed and epoched data\n",
        "    n_epochs : int\n",
        "        Number of valid epochs after dropping bad ones\n",
        "    \"\"\"\n",
        "    # Extract EEG data (columns 1-14)\n",
        "    eeg_data = raw_data.iloc[:, 1:15]    #it should be 1:15\n",
        "\n",
        "    ch_names = eeg_data.columns.tolist()\n",
        "    ch_types = [\"eeg\"] * len(ch_names)\n",
        "\n",
        "    # Create MNE RawArray\n",
        "    raw_array = mne.io.RawArray(\n",
        "        eeg_data.values.T,\n",
        "        mne.create_info(ch_names=ch_names, sfreq=sfreq, ch_types=ch_types)\n",
        "    )\n",
        "\n",
        "    # Bandpass filtering (1-30 Hz)\n",
        "    raw_array.filter(1, 45, fir_design='firwin')\n",
        "\n",
        "    #ICA motion correction\n",
        "    ica = mne.preprocessing.ICA(n_components=10, random_state=97, max_iter='auto')\n",
        "    ica.fit(raw_array)\n",
        "\n",
        "    # Then exclude bad components (example: components [0, 1] are bad)\n",
        "    ica.exclude = [0, 1]  # Replace with real bad components after inspecting\n",
        "    raw_array = ica.apply(raw_array)\n",
        "\n",
        "\n",
        "\n",
        "\n",
        "    # Create epochs\n",
        "    epochs = mne.make_fixed_length_epochs(raw_array, duration=duration, overlap=overlap)\n",
        "\n",
        "    # Drop bad epochs\n",
        "    epochs = epochs.drop_bad()\n",
        "\n",
        "    return epochs, len(epochs)"
      ]
    },
    {
      "cell_type": "code",
      "execution_count": 19,
      "id": "OrmugKlUM71a",
      "metadata": {
        "id": "OrmugKlUM71a"
      },
      "outputs": [],
      "source": [
        "def expand_labels_for_epochs(original_labels, n_epochs_per_sample):\n",
        "    \"\"\"\n",
        "    Expand labels to match the number of epochs for each sample.\n",
        "\n",
        "    Parameters:\n",
        "    -----------\n",
        "    original_labels : list or np.array\n",
        "        Original labels for each sample\n",
        "    n_epochs_per_sample : list\n",
        "        Number of valid epochs for each sample\n",
        "\n",
        "    Returns:\n",
        "    --------\n",
        "    expanded_labels : np.array\n",
        "        Labels expanded to match the number of epochs\n",
        "    \"\"\"\n",
        "    expanded_labels = []\n",
        "    for label, n_epochs in zip(original_labels, n_epochs_per_sample):\n",
        "        expanded_labels.extend([label] * n_epochs)\n",
        "    return np.array(expanded_labels)"
      ]
    },
    {
      "cell_type": "code",
      "execution_count": null,
      "id": "-_F2gue-b-V2",
      "metadata": {
        "id": "-_F2gue-b-V2"
      },
      "outputs": [],
      "source": [
        "def normalize_amplitude(raw_data, technique='min_max', axis=None, keepdims=True):\n",
        "    \"\"\"\n",
        "    Normalize data using various techniques with flexible axis handling.\n",
        "\n",
        "    Parameters:\n",
        "    -----------\n",
        "    raw_data : MNE Raw object or numpy array\n",
        "        Input data to be normalized\n",
        "    technique : str\n",
        "        Normalization technique to use:\n",
        "        - 'min_max': scales data to [0, 1] range\n",
        "        - 'min_max_symmetric': scales data to [-1, 1] range\n",
        "        - 'mean_std': standardizes data by removing mean and scaling to unit variance\n",
        "        - 'mean_only': only subtracts mean (centered data)\n",
        "    axis : int or None\n",
        "        Axis along which to compute statistics. If None, compute globally.\n",
        "        axis=1 for per-channel normalization\n",
        "    keepdims : bool\n",
        "        Whether to keep dimensions when computing statistics\n",
        "\n",
        "    Returns:\n",
        "    --------\n",
        "    raw_data : MNE Raw object or numpy array\n",
        "        Normalized data in the same format as input\n",
        "    \"\"\"\n",
        "    # Get the data array\n",
        "    if hasattr(raw_data, 'get_data'):\n",
        "        raw_data_values = raw_data.get_data()\n",
        "    else:\n",
        "        raw_data_values = raw_data.copy()\n",
        "\n",
        "    # Compute statistics along specified axis\n",
        "    min_val = raw_data_values.min(axis=axis, keepdims=keepdims)\n",
        "    max_val = raw_data_values.max(axis=axis, keepdims=keepdims)\n",
        "    mean_val = raw_data_values.mean(axis=axis, keepdims=keepdims)\n",
        "    std_val = raw_data_values.std(axis=axis, keepdims=keepdims)\n",
        "\n",
        "    # Handle division by zero cases\n",
        "    eps = 1e-8\n",
        "\n",
        "    # Apply normalization based on selected technique\n",
        "    if technique == 'min_max':\n",
        "        denominator = (max_val - min_val)\n",
        "        denominator = np.where(denominator == 0, eps, denominator)\n",
        "        normalized_data = (raw_data_values - min_val) / denominator\n",
        "\n",
        "    elif technique == 'min_max_symmetric':\n",
        "        denominator = (max_val - min_val)\n",
        "        denominator = np.where(denominator == 0, eps, denominator)\n",
        "        normalized_data = 2 * ((raw_data_values - min_val) / denominator) - 1\n",
        "\n",
        "    elif technique == 'mean_std':\n",
        "        denominator = std_val\n",
        "        denominator = np.where(denominator == 0, eps, denominator)\n",
        "        normalized_data = (raw_data_values - mean_val) / denominator\n",
        "\n",
        "    elif technique == 'mean_only':\n",
        "        normalized_data = raw_data_values - mean_val\n",
        "\n",
        "    else:\n",
        "        raise ValueError(f\"Unknown normalization technique: {technique}\")\n",
        "\n",
        "    # Return data in the same format as input\n",
        "    if hasattr(raw_data, 'get_data'):\n",
        "        raw_data._data = normalized_data\n",
        "        return raw_data\n",
        "    else:\n",
        "        return normalized_data"
      ]
    },
    {
      "cell_type": "markdown",
      "id": "U3kjanns6Iij",
      "metadata": {
        "id": "U3kjanns6Iij"
      },
      "source": [
        "The next step is to calculate the **Phase-Locking Value (PLV)** matrix, which measures the functional connectivity between EEG channels. The PLV quantifies how consistent the phase difference between two signals is over time. This is useful for identifying synchronized brain activity between regions.\n",
        "\n",
        "1. `calculate_plv_matrix` Function:\n",
        "\n",
        "Computes a pairwise PLV matrix for all EEG channels.\n",
        "Each entry in the matrix represents the PLV value between two channels.\n",
        "\n",
        "2. `calculate_plv` Function:\n",
        "\n",
        "Calculates the PLV between two individual EEG signals by comparing their phase differences."
      ]
    },
    {
      "cell_type": "code",
      "execution_count": 20,
      "id": "d7gTOyRzyYpK",
      "metadata": {
        "id": "d7gTOyRzyYpK"
      },
      "outputs": [],
      "source": [
        "def calculate_plv_matrix(eeg_data):\n",
        "    n_channels = len(eeg_data.info['ch_names'])\n",
        "    plv_matrix = np.zeros((n_channels, n_channels))\n",
        "    for i in range(n_channels):\n",
        "        for j in range(i + 1, n_channels):\n",
        "            signal1 = eeg_data.get_data(picks=i).flatten()\n",
        "            signal2 = eeg_data.get_data(picks=j).flatten()\n",
        "            plv_matrix[i, j] = calculate_plv(signal1, signal2)\n",
        "    return plv_matrix\n",
        "\n",
        "def calculate_plv(signal1, signal2):\n",
        "    phase1 = np.angle(signal1)\n",
        "    phase2 = np.angle(signal2)\n",
        "    return np.abs(np.mean(np.exp(1j * (phase1 - phase2))))"
      ]
    },
    {
      "cell_type": "markdown",
      "id": "L8oP87N_lL8u",
      "metadata": {
        "id": "L8oP87N_lL8u"
      },
      "source": [
        "**Feature Computation for EEG Channels**\n",
        "\n",
        "To provide more detailed information about each EEG channel, we compute specific features:\n",
        "\n",
        "1. *Katz Fractal Dimension (Katz FD):*\n",
        "\n",
        "A measure of signal complexity, often used in EEG analysis to quantify how irregular the signal is.\n",
        "\n",
        "2. *Band Energy:*\n",
        "\n",
        "The energy of the EEG signal in specific frequency bands:\n",
        "* Delta (1–4 Hz): Associated with deep sleep and unconscious states.\n",
        "* Theta (4–8 Hz): Linked to relaxation and meditative states.\n",
        "* Alpha (8–13 Hz): Represents calm and focused mental states.\n",
        "* Beta (13–30 Hz): Associated with active thinking and problem-solving.\n",
        "\n",
        "The function calculates these features for each EEG channel and returns them as a dictionary."
      ]
    },
    {
      "cell_type": "code",
      "execution_count": 21,
      "id": "jDJv-AAOSKXX",
      "metadata": {
        "id": "jDJv-AAOSKXX"
      },
      "outputs": [],
      "source": [
        "def compute_features(eeg_data):\n",
        "    \"\"\"\n",
        "    Compute features (Katz FD, band energy) for each EEG channel.\n",
        "    :param eeg_data: MNE RawArray object with EEG channels.\n",
        "    :return: Dictionary with features for each channel.\n",
        "    \"\"\"\n",
        "    features = {}\n",
        "    sfreq = eeg_data.info['sfreq']\n",
        "\n",
        "    for ch_name in eeg_data.info['ch_names']:\n",
        "        signal = eeg_data.get_data(picks=ch_name).flatten()\n",
        "\n",
        "        # Katz FD\n",
        "        L = np.sum(np.sqrt(np.diff(signal)**2 + 1))\n",
        "        d = np.max(signal) - np.min(signal)\n",
        "        katz_fd = np.log10(L) / np.log10(d)\n",
        "\n",
        "        # Band energy (delta, theta, alpha, beta)\n",
        "        freqs, psd = mne.time_frequency.psd_array_welch(signal, sfreq=sfreq, n_fft=256)\n",
        "        delta_energy = np.sum(psd[(freqs >= 1) & (freqs < 4)])\n",
        "        theta_energy = np.sum(psd[(freqs >= 4) & (freqs < 8)])\n",
        "        alpha_energy = np.sum(psd[(freqs >= 8) & (freqs < 13)])\n",
        "        beta_energy = np.sum(psd[(freqs >= 13) & (freqs < 30)])\n",
        "\n",
        "        features[ch_name] = [katz_fd, delta_energy, theta_energy, alpha_energy, beta_energy]\n",
        "\n",
        "    return features"
      ]
    },
    {
      "cell_type": "markdown",
      "id": "vyuKo5H4ls5W",
      "metadata": {
        "id": "vyuKo5H4ls5W"
      },
      "source": [
        "This step converts the **Phase-Locking Value (PLV)** matrix into a graph where:\n",
        "\n",
        "* **Nodes** represent EEG channels (e.g., T3, T4).\n",
        "* **Edges connect** channels based on their PLV values, indicating functional connectivity."
      ]
    },
    {
      "cell_type": "code",
      "execution_count": 22,
      "id": "u3Tkxl2eSLCM",
      "metadata": {
        "id": "u3Tkxl2eSLCM"
      },
      "outputs": [],
      "source": [
        "def create_graph_from_plv(plv_matrix, channel_names):\n",
        "    \"\"\"\n",
        "    Create a graph from a PLV matrix using original channel names as node labels.\n",
        "    \"\"\"\n",
        "    G = nx.Graph()\n",
        "\n",
        "    # Add nodes with channel names as labels\n",
        "    for i, name in enumerate(channel_names):\n",
        "        G.add_node(name)  # Use the original channel name instead of numeric ID\n",
        "\n",
        "    # Add edges with weights\n",
        "    for i in range(len(plv_matrix)):\n",
        "        for j in range(i + 1, len(plv_matrix)):\n",
        "            if plv_matrix[i, j] > 0:  # Include edges with positive weights\n",
        "                G.add_edge(channel_names[i], channel_names[j], weight=plv_matrix[i, j])\n",
        "\n",
        "    return G"
      ]
    },
    {
      "cell_type": "markdown",
      "id": "qMnNq5wil3Qt",
      "metadata": {
        "id": "qMnNq5wil3Qt"
      },
      "source": [
        "This step automates the pipeline for multiple EEG recordings. For each file:\n",
        "\n",
        "1. **Load the EEG Data:** Read the .gz file containing the raw EEG data.\n",
        "2. **Preprocess the Signal:** Apply bandpass filtering to isolate relevant frequencies.\n",
        "3. **Calculate the PLV Matrix:** Compute pairwise functional connectivity between channels.\n",
        "4. **Create and Save the Graph:** Convert the PLV matrix into a graph and save it as a .gml file.\n",
        "5. **Compute and Save Node Features:** Extract features like Katz FD and band energy for each channel and save them in a JSON file."
      ]
    },
    {
      "cell_type": "code",
      "execution_count": 23,
      "id": "1iY3HJsWylUi",
      "metadata": {
        "id": "1iY3HJsWylUi"
      },
      "outputs": [],
      "source": [
        "def process_all_files(metadata, output_dir, feature_output_dir):\n",
        "    os.makedirs(output_dir, exist_ok=True)\n",
        "    os.makedirs(feature_output_dir, exist_ok=True)\n",
        "\n",
        "    for _, row in metadata.iterrows():\n",
        "        # Load EEG data from .gz file\n",
        "        eeg_data = load_eeg_from_gz(row['csv.file'], row['file_rows_count'], row['first_condition'])\n",
        "\n",
        "        # Filtering and processing the signal\n",
        "        raw_array = preprocess_eeg(eeg_data.iloc[:, 1:15])\n",
        "\n",
        "        # Calculate PLV\n",
        "        plv_matrix = calculate_plv_matrix(raw_array)\n",
        "\n",
        "        # Create the graph\n",
        "        graph = create_graph_from_plv(plv_matrix, raw_array.info['ch_names'])\n",
        "\n",
        "        # Save the graph\n",
        "        # Convert edge weights to float (if they're np.float64)\n",
        "        for u, v, data in graph.edges(data=True):\n",
        "           if 'weight' in data:\n",
        "             data['weight'] = float(data['weight'])\n",
        "        nx.write_gml(graph, os.path.join(output_dir, f\"{row['subject.id']}_graph.gml\"))\n",
        "\n",
        "        # Compute features and save separately\n",
        "        features = compute_features(raw_array)\n",
        "        feature_file = os.path.join(feature_output_dir, f\"{row['subject.id']}_features.json\")\n",
        "        with open(feature_file, 'w') as f:\n",
        "            json.dump(features, f)\n",
        "\n",
        "\n",
        "def process_all_files_with_epochs(metadata, output_dir, feature_output_dir, duration=5, overlap=1):\n",
        "    \"\"\"\n",
        "    Process all EEG files with epoching and save results.\n",
        "\n",
        "    Parameters:\n",
        "    -----------\n",
        "    metadata : pd.DataFrame\n",
        "        Metadata containing file information\n",
        "    output_dir : str\n",
        "        Directory to save graph files\n",
        "    feature_output_dir : str\n",
        "        Directory to save feature files\n",
        "    duration : float\n",
        "        Duration of each epoch in seconds\n",
        "    overlap : float\n",
        "        Overlap between epochs in seconds\n",
        "\n",
        "    Returns:\n",
        "    --------\n",
        "    n_epochs_per_sample : list\n",
        "        Number of valid epochs for each sample\n",
        "    \"\"\"\n",
        "    os.makedirs(output_dir, exist_ok=True)\n",
        "    os.makedirs(feature_output_dir, exist_ok=True)\n",
        "\n",
        "    n_epochs_per_sample = []\n",
        "\n",
        "    for idx, row in metadata.iterrows():\n",
        "        # Load EEG data\n",
        "        eeg_data = load_eeg_from_gz(row['csv.file'], row['file_rows_count'], row['first_condition'])\n",
        "\n",
        "        # Preprocess and create epochs\n",
        "        epochs, n_epochs = preprocess_eeg_with_epochs(eeg_data, duration=duration, overlap=overlap)\n",
        "        n_epochs_per_sample.append(n_epochs)\n",
        "\n",
        "        # Process each epoch\n",
        "        for epoch_idx in range(n_epochs):\n",
        "            epoch_data = epochs[epoch_idx]\n",
        "\n",
        "            # Calculate PLV for this epoch\n",
        "            plv_matrix = calculate_plv_matrix(epoch_data)\n",
        "\n",
        "            # Create graph for this epoch\n",
        "            graph = create_graph_from_plv(plv_matrix, epoch_data.info['ch_names'])\n",
        "\n",
        "            # Save graph with epoch index in filename\n",
        "            # Convert edge weights to float (if they're np.float64)\n",
        "            for u, v, data in graph.edges(data=True):\n",
        "              if 'weight' in data:\n",
        "                data['weight'] = float(data['weight'])\n",
        "\n",
        "            nx.write_gml(graph, os.path.join(output_dir, f\"{row['subject.id']}_epoch{epoch_idx}_graph.gml\"))\n",
        "\n",
        "            # Compute and save features for this epoch\n",
        "            features = compute_features(epoch_data)\n",
        "            feature_file = os.path.join(feature_output_dir, f\"{row['subject.id']}_epoch{epoch_idx}_features.json\")\n",
        "            with open(feature_file, 'w') as f:\n",
        "                json.dump(features, f)\n",
        "\n",
        "    return n_epochs_per_sample"
      ]
    },
    {
      "cell_type": "markdown",
      "id": "SdX1dnkQA3Ip",
      "metadata": {
        "id": "SdX1dnkQA3Ip"
      },
      "source": [
        "### Build GAT model"
      ]
    },
    {
      "cell_type": "markdown",
      "id": "ecMCY-HNnNy2",
      "metadata": {
        "id": "ecMCY-HNnNy2"
      },
      "source": [
        "This step combines the graphs saved in `.gml` files with the node features saved in `.json` files. Each graph is converted to a PyTorch Geometric `Data` object, which includes:\n",
        "\n",
        "* Node Features: Features like Katz FD and band energy.\n",
        "* Edge Index and Attributes: Connectivity and weights from the PLV matrix.\n",
        "* Labels: Encoded class labels (Control or Epilepsy)."
      ]
    },
    {
      "cell_type": "code",
      "execution_count": 24,
      "id": "hG9Y2XsHEYOd",
      "metadata": {
        "id": "hG9Y2XsHEYOd"
      },
      "outputs": [],
      "source": [
        "def load_graphs_and_labels_with_features(gml_dir, feature_dir, metadata):\n",
        "    \"\"\"\n",
        "    Load .gml graphs, enrich with features, and convert to PyTorch Geometric format.\n",
        "    \"\"\"\n",
        "    graphs = []\n",
        "    labels = []\n",
        "\n",
        "    label_encoder = LabelEncoder()\n",
        "    metadata['encoded_group'] = label_encoder.fit_transform(metadata['Group'])\n",
        "\n",
        "    for _, row in metadata.iterrows():\n",
        "        gml_file = os.path.join(gml_dir, f\"{row['subject.id']}_graph.gml\")\n",
        "        feature_file = os.path.join(feature_dir, f\"{row['subject.id']}_features.json\")\n",
        "\n",
        "        if os.path.exists(gml_file) and os.path.exists(feature_file):\n",
        "            # Load graph\n",
        "            graph = nx.read_gml(gml_file)\n",
        "\n",
        "            # Load features\n",
        "            with open(feature_file, 'r') as f:\n",
        "                features = json.load(f)\n",
        "\n",
        "            # Map node labels to numeric indices\n",
        "            node_mapping = {node: idx for idx, node in enumerate(graph.nodes)}\n",
        "\n",
        "            # Convert edges to numeric indices\n",
        "            edge_index = torch.tensor([[node_mapping[u], node_mapping[v]] for u, v in graph.edges], dtype=torch.long).t().contiguous()\n",
        "\n",
        "            # Convert node features to tensor\n",
        "            node_features = torch.tensor([features[node] for node in graph.nodes], dtype=torch.float32)\n",
        "\n",
        "            # Get edge attributes (e.g., weights)\n",
        "            edge_attr = torch.tensor([data['weight'] for _, _, data in graph.edges(data=True)], dtype=torch.float32)\n",
        "\n",
        "            # Create PyTorch Geometric data object\n",
        "            data = Data(x=node_features, edge_index=edge_index, edge_attr=edge_attr, num_nodes=len(graph.nodes), y=torch.tensor([row['encoded_group']]))\n",
        "\n",
        "            graphs.append(data)\n",
        "            labels.append(row['encoded_group'])\n",
        "\n",
        "    # Convert labels to tensor\n",
        "    labels = torch.tensor(labels, dtype=torch.long)\n",
        "    return graphs, labels\n",
        "\n",
        "def load_graphs_and_labels_with_epochs(gml_dir, feature_dir, metadata, n_epochs_per_sample):\n",
        "    \"\"\"\n",
        "    Load epoched graphs and expand labels accordingly.\n",
        "    \"\"\"\n",
        "    graphs = []\n",
        "\n",
        "    # Encode labels first\n",
        "    label_encoder = LabelEncoder()\n",
        "    metadata['encoded_group'] = label_encoder.fit_transform(metadata['Group'])\n",
        "\n",
        "    # Get original labels and expand them based on epochs\n",
        "    original_labels = metadata['encoded_group'].values\n",
        "    expanded_labels = expand_labels_for_epochs(original_labels, n_epochs_per_sample)\n",
        "\n",
        "    # Load each epoch's graph\n",
        "    current_epoch_idx = 0\n",
        "#    for idx, row in metadata.iterrows():\n",
        "#        n_epochs = n_epochs_per_sample[idx]\n",
        "\n",
        "    for i, (_, row) in enumerate(metadata.iterrows()):\n",
        "        n_epochs = n_epochs_per_sample[i]\n",
        "\n",
        "        for epoch_idx in range(n_epochs):\n",
        "            gml_file = os.path.join(gml_dir, f\"{row['subject.id']}_epoch{epoch_idx}_graph.gml\")\n",
        "            feature_file = os.path.join(feature_dir, f\"{row['subject.id']}_epoch{epoch_idx}_features.json\")\n",
        "\n",
        "            if os.path.exists(gml_file) and os.path.exists(feature_file):\n",
        "                # Load graph\n",
        "                graph = nx.read_gml(gml_file)\n",
        "\n",
        "                # Load features\n",
        "                with open(feature_file, 'r') as f:\n",
        "                    features = json.load(f)\n",
        "\n",
        "                # Create PyTorch Geometric data object\n",
        "                node_mapping = {node: idx for idx, node in enumerate(graph.nodes)}\n",
        "                edge_index = torch.tensor([[node_mapping[u], node_mapping[v]] for u, v in graph.edges], dtype=torch.long).t().contiguous()\n",
        "                node_features = torch.tensor([features[node] for node in graph.nodes], dtype=torch.float32)\n",
        "                edge_attr = torch.tensor([data['weight'] for _, _, data in graph.edges(data=True)], dtype=torch.float32)\n",
        "\n",
        "                data = Data(\n",
        "                    x=node_features,\n",
        "                    edge_index=edge_index,\n",
        "                    edge_attr=edge_attr,\n",
        "                    num_nodes=len(graph.nodes),\n",
        "                    y=torch.tensor([expanded_labels[current_epoch_idx]])\n",
        "                )\n",
        "\n",
        "                graphs.append(data)\n",
        "                current_epoch_idx += 1\n",
        "\n",
        "    # Convert expanded labels to tensor\n",
        "    labels = torch.tensor(expanded_labels, dtype=torch.long)\n",
        "    return graphs, labels"
      ]
    },
    {
      "cell_type": "markdown",
      "id": "QlCs7u0snhXE",
      "metadata": {
        "id": "QlCs7u0snhXE"
      },
      "source": [
        "Defining the GAT Model used for classification:\n",
        "\n",
        "1. Applying Graph Attention Layers (`GATConv`): These layers compute node embeddings using attention mechanisms that weigh the importance of each node's neighbors.\n",
        "2. Combining Layers: The first GAT layer outputs intermediate embeddings, and the second outputs class probabilities for each graph."
      ]
    },
    {
      "cell_type": "code",
      "execution_count": 25,
      "id": "WoRvz7_bEmKt",
      "metadata": {
        "id": "WoRvz7_bEmKt"
      },
      "outputs": [],
      "source": [
        "class GATModel(Module):\n",
        "    def __init__(self, in_channels, hidden_channels, out_channels, edge_dim=0,  heads=1,  dropout=0.3):\n",
        "        \"\"\"\n",
        "        Initialize the GAT model.\n",
        "        Args:\n",
        "            in_channels (int): Number of input node features.\n",
        "            hidden_channels (int): Number of hidden channels in the first GAT layer.\n",
        "            out_channels (int): Number of output classes.\n",
        "            heads (int): Number of attention heads in the first GAT layer (default=1).\n",
        "\n",
        "        super(GATModel, self).__init__()\n",
        "        #self.gat1 = GATConv(in_channels, hidden_channels, heads=heads, concat=True)  # First attention layer\n",
        "        #self.gat2 = GATConv(hidden_channels * heads, out_channels, heads=1, concat=False)  # Second layer\n",
        "        self.gat1 = GATv2Conv(in_channels, hidden_channels, heads=heads, concat=True)  # First attention layer\n",
        "        self.gat2 = GATv2Conv(hidden_channels * heads, out_channels, heads=1, concat=False)  # Second layer\n",
        "        \"\"\"\n",
        "\n",
        "        super(GATModel, self).__init__()\n",
        "        self.gat1 = GATv2Conv(in_channels, hidden_channels, heads=heads, concat=True, edge_dim=edge_dim)\n",
        "        self.norm1 = LayerNorm(hidden_channels * heads)\n",
        "\n",
        "        self.gat2 = GATv2Conv(hidden_channels * heads, hidden_channels, heads=1, concat=False, edge_dim=edge_dim)\n",
        "        self.norm2 = LayerNorm(hidden_channels)\n",
        "\n",
        "        self.lin1 = Linear(hidden_channels, hidden_channels)\n",
        "        self.bn1 = BatchNorm1d(hidden_channels)\n",
        "\n",
        "        self.lin2 = Linear(hidden_channels, out_channels)\n",
        "\n",
        "        #self.dropout = Dropout(p=dropout)  # 👈 this was missing\n",
        "\n",
        "    def forward(self, x, edge_index, edge_attr, batch):\n",
        "    #def forward(self, x, edge_index, edge_attr):\n",
        "        \"\"\"\n",
        "        Forward pass of the GAT model.\n",
        "        Args:\n",
        "            x (torch.Tensor): Node features.\n",
        "            edge_index (torch.Tensor): Edge indices.\n",
        "            edge_attr (torch.Tensor): Edge attributes (weights).\n",
        "        Returns:\n",
        "            torch.Tensor: Log-softmax probabilities for each class.\n",
        "        \"\"\"\n",
        "        '''\n",
        "        #x = self.gat1(x, edge_index, edge_attr)  # First GAT layer\n",
        "        x = self.gat1(x, edge_index )  # First GAT layer\n",
        "\n",
        "        x = F.elu(x)  # Apply activation\n",
        "        #x = self.gat2(x, edge_index, edge_attr)  # Second GAT layer\n",
        "        x = self.gat2(x, edge_index)  # Second GAT layer\n",
        "        '''\n",
        "        # First GAT + activation + norm\n",
        "        x = self.gat1(x, edge_index, edge_attr)\n",
        "        x = F.elu(x)\n",
        "        x = self.norm1(x)\n",
        "        #x = self.dropout(x)\n",
        "\n",
        "        # Second GAT + norm + activation\n",
        "        x = self.gat2(x, edge_index, edge_attr)\n",
        "        x = self.norm2(x)\n",
        "        x = F.elu(x)\n",
        "        #x = self.dropout(x)\n",
        "\n",
        "        # Global mean pooling to graph-level representation\n",
        "        #x = global_mean_pool(x, batch)\n",
        "        x = global_add_pool(x, batch)\n",
        "\n",
        "        # MLP: Linear -> Activation -> BN -> Linear\n",
        "        x = self.lin1(x)\n",
        "        x = self.bn1(x)\n",
        "        x = F.relu(x)\n",
        "        #x = self.dropout(x)\n",
        "\n",
        "        x = self.lin2(x)\n",
        "        return F.log_softmax(x, dim=1)  # Output class probabilities\n",
        "        #return x\n",
        "        #return torch.sigmoid(x)"
      ]
    },
    {
      "cell_type": "markdown",
      "id": "WVvGO7y6qFKq",
      "metadata": {
        "id": "WVvGO7y6qFKq"
      },
      "source": [
        "**Using Grad-CAM for Node Importance in GAT**\n",
        "\n",
        "Grad-CAM is used to identify the importance of nodes in the graph by analyzing gradients from a specific layer (gat1). The class GradCamGAT computes node importance based on these gradients.\n",
        "\n",
        "1. The forward method passes data through the target layer and captures gradients via a hook. The global mean pooling aggregates node-level outputs to graph-level predictions.\n",
        "2. The backward method computes gradients with respect to the graph output.\n",
        "3. The get_node_importance method calculates node importance by averaging gradients across features."
      ]
    },
    {
      "cell_type": "code",
      "execution_count": 27,
      "id": "YSoIJ5SnZmfd",
      "metadata": {
        "id": "YSoIJ5SnZmfd"
      },
      "outputs": [],
      "source": [
        "class GradCamGAT:\n",
        "    def __init__(self, model, target_layer):\n",
        "        self.model = model\n",
        "        self.target_layer = target_layer\n",
        "        self.gradients = None\n",
        "        self.activations = None\n",
        "\n",
        "        # Register forward hook on the target layer\n",
        "        self.target_layer.register_forward_hook(self.save_activation)\n",
        "\n",
        "    def save_gradient(self, grad):\n",
        "        # Save gradients during backward pass\n",
        "        self.gradients = grad\n",
        "\n",
        "    def save_activation(self, module, input, output):\n",
        "        # Save activations during forward pass\n",
        "        self.activations = output\n",
        "\n",
        "    def forward(self, x, edge_index, edge_attr, batch):\n",
        "        # Forward pass through the target layer\n",
        "        node_output = self.target_layer(x, edge_index, edge_attr)\n",
        "        node_output.register_hook(self.save_gradient)  # Register gradient hook\n",
        "        graph_output = global_mean_pool(node_output, batch)  # Global pooling\n",
        "        return graph_output, node_output\n",
        "\n",
        "    def backward(self, output, class_idx=None):\n",
        "        # Backward pass to compute gradients for a specific class\n",
        "        if class_idx is None:\n",
        "            class_idx = output.argmax(dim=1)  # Use the predicted class if no class is specified\n",
        "        one_hot = torch.zeros_like(output)\n",
        "        one_hot[0, class_idx] = 1  # Create one-hot vector for the target class\n",
        "        output.backward(gradient=one_hot, retain_graph=True)\n",
        "\n",
        "    def get_node_importance(self):\n",
        "        # Compute node importance using gradients and activations\n",
        "        if self.gradients is None or self.activations is None:\n",
        "            raise ValueError(\"Gradients or activations have not been computed. Did you call forward and backward?\")\n",
        "        gradients = self.gradients.mean(dim=1, keepdim=True)  # Average gradients over nodes\n",
        "        activations = self.activations  # Use saved activations\n",
        "        node_importance = (gradients * activations).sum(dim=1)  # Grad-CAM formula\n",
        "        return node_importance.detach()\n",
        "\n"
      ]
    },
    {
      "cell_type": "markdown",
      "id": "fs1JMa3yey1G",
      "metadata": {
        "id": "fs1JMa3yey1G"
      },
      "source": [
        "# Nigerian dataset"
      ]
    },
    {
      "cell_type": "markdown",
      "id": "GWqeSoDjsR34",
      "metadata": {
        "id": "GWqeSoDjsR34"
      },
      "source": [
        "We will now proceed to use the above pipeline for Nigerian dataset."
      ]
    },
    {
      "cell_type": "markdown",
      "id": "HzwBeEZEk_KL",
      "metadata": {
        "id": "HzwBeEZEk_KL"
      },
      "source": [
        "### GAT model"
      ]
    },
    {
      "cell_type": "code",
      "execution_count": 26,
      "id": "4Nt415yqftnJ",
      "metadata": {
        "id": "4Nt415yqftnJ"
      },
      "outputs": [],
      "source": [
        "# Directory containing .gml files\n",
        "gml_dir = \"output4/graphs_nigeria\"\n",
        "feature_dir = \"output4/features_nigeria\""
      ]
    },
    {
      "cell_type": "markdown",
      "id": "VKJq39sSAyVs",
      "metadata": {
        "id": "VKJq39sSAyVs"
      },
      "source": [
        "Processing all EEG files, create graphs and feature files."
      ]
    },
    {
      "cell_type": "code",
      "execution_count": 27,
      "id": "RbREOZm56VXl",
      "metadata": {
        "id": "RbREOZm56VXl"
      },
      "outputs": [],
      "source": [
        "#process_all_files(ni_df, \"output4/graphs_nigeria\", \"output4/features_nigeria\")\n",
        "\n",
        "n_epochs_per_sample = process_all_files_with_epochs(\n",
        "    ni_df,\n",
        "    \"output4/graphs_nigeria_epoched\",\n",
        "    \"output4/features_nigeria_epoched\",\n",
        "    duration=5,\n",
        "    overlap=0\n",
        ")"
      ]
    },
    {
      "cell_type": "markdown",
      "id": "8Qf3zeTy9JYF",
      "metadata": {
        "id": "8Qf3zeTy9JYF"
      },
      "source": [
        "Loading a sample graph from the generated .gml file and inspect its structure:\n",
        "\n",
        "* **Nodes:** Represent EEG channels.\n",
        "* **Edges:** Represent functional connectivity (PLV) between channels.\n",
        "* **Edge Weights:** Represent the strength of connectivity."
      ]
    },
    {
      "cell_type": "code",
      "execution_count": null,
      "id": "dqDyc7Wy6-iz",
      "metadata": {
        "id": "dqDyc7Wy6-iz"
      },
      "outputs": [],
      "source": [
        "# Path to a sample .gml file\n",
        "gml_file = \"output4/graphs_nigeria_epoched/NI-638_epoch20_graph.gml\"\n",
        "\n",
        "# Load the graph from the .gml file\n",
        "graph = nx.read_gml(gml_file)\n",
        "\n",
        "# Print basic information about the graph\n",
        "print(\"Number of nodes:\", graph.number_of_nodes())\n",
        "print(\"Number of edges:\", graph.number_of_edges())\n",
        "\n",
        "# Display a few edges with their weights\n",
        "print(\"Sample edges with weights:\")\n",
        "for u, v, weight in graph.edges(data='weight'):\n",
        "    print(f\"({u}, {v}) -> weight: {weight}\")"
      ]
    },
    {
      "cell_type": "markdown",
      "id": "kpjXAsiqmtKA",
      "metadata": {
        "id": "kpjXAsiqmtKA"
      },
      "source": [
        "Visualizing the graph to better understand the connectivity:\n",
        "\n",
        "* Nodes are labeled with their channel names.\n",
        "* Edge weights are displayed, showing the strength of the connections."
      ]
    },
    {
      "cell_type": "code",
      "execution_count": null,
      "id": "5g1FyAK69P64",
      "metadata": {
        "id": "5g1FyAK69P64"
      },
      "outputs": [],
      "source": [
        "# Load the graph\n",
        "graph = nx.read_gml(gml_file)\n",
        "\n",
        "# Draw the graph\n",
        "plt.figure(figsize=(10, 8))\n",
        "pos = nx.spring_layout(graph)  # Automatic layout for nodes\n",
        "nx.draw(\n",
        "    graph,\n",
        "    pos,\n",
        "    with_labels=True,\n",
        "    node_size=700,\n",
        "    node_color=\"lightblue\",\n",
        "    font_size=10,\n",
        "    font_color=\"black\",\n",
        ")\n",
        "# Add edge labels showing weights\n",
        "nx.draw_networkx_edge_labels(\n",
        "    graph, pos, edge_labels={(u, v): f\"{d['weight']:.2f}\" for u, v, d in graph.edges(data=True)}\n",
        ")\n",
        "plt.title(\"Visualization of EEG Graph (PLV)\")\n",
        "plt.show()\n"
      ]
    },
    {
      "cell_type": "markdown",
      "id": "5vht8tJdsp6o",
      "metadata": {
        "id": "5vht8tJdsp6o"
      },
      "source": [
        "Edges that connect different nodes (representing parts of brain) hold weights that imply how closely correlated are signals for these parts of brain."
      ]
    },
    {
      "cell_type": "code",
      "execution_count": 28,
      "id": "JmZcYav8EqyC",
      "metadata": {
        "id": "JmZcYav8EqyC"
      },
      "outputs": [],
      "source": [
        "# Load data\n",
        "#graphs, labels = load_graphs_and_labels_with_features(gml_dir, feature_dir, ni_df)\n",
        "# Load the epoched data with properly expanded labels\n",
        "graphs, labels = load_graphs_and_labels_with_epochs(\n",
        "    \"output4/graphs_nigeria_epoched\",\n",
        "    \"output4/features_nigeria_epoched\",\n",
        "    ni_df,\n",
        "    n_epochs_per_sample\n",
        ")"
      ]
    },
    {
      "cell_type": "markdown",
      "id": "FIJKrlR4oQ68",
      "metadata": {
        "id": "FIJKrlR4oQ68"
      },
      "source": [
        "To ensure that both classes (Control and Epilepsy) are proportionally represented in the train and test datasets, we use a stratified split. This ensures the class balance is maintained in both subsets."
      ]
    },
    {
      "cell_type": "code",
      "execution_count": 29,
      "id": "CAIJ499gXJz2",
      "metadata": {
        "colab": {
          "base_uri": "https://localhost:8080/"
        },
        "id": "CAIJ499gXJz2",
        "outputId": "7876cbc6-bddc-4fe8-b368-5a5efb8a0712"
      },
      "outputs": [
        {
          "output_type": "stream",
          "name": "stdout",
          "text": [
            "Train class distribution: Counter({np.int64(1): 2499, np.int64(0): 1908})\n",
            "Test class distribution: Counter({np.int64(1): 625, np.int64(0): 477})\n"
          ]
        }
      ],
      "source": [
        "# Stratified split to ensure both classes are represented in train and test sets\n",
        "train_graphs, test_graphs, train_labels, test_labels = train_test_split(\n",
        "    graphs, labels, test_size=0.2, stratify=labels, random_state=42\n",
        ")\n",
        "\n",
        "\n",
        "print(\"Train class distribution:\", Counter(train_labels.numpy()))\n",
        "print(\"Test class distribution:\", Counter(test_labels.numpy()))\n"
      ]
    },
    {
      "cell_type": "markdown",
      "id": "XQ-3hRuyoYWE",
      "metadata": {
        "id": "XQ-3hRuyoYWE"
      },
      "source": [
        "Setting up the DataLoader and Model Initialization"
      ]
    },
    {
      "cell_type": "code",
      "execution_count": 30,
      "id": "zVZz5msFXNhp",
      "metadata": {
        "id": "zVZz5msFXNhp"
      },
      "outputs": [],
      "source": [
        "# Create DataLoader\n",
        "train_loader = DataLoader(train_graphs, batch_size=16, shuffle=True)\n",
        "\n",
        "# Initialize model\n",
        "#model = GATModel(in_channels=5, hidden_channels=8, out_channels=2)  # Binary classification\n",
        "model = GATModel(in_channels=5, hidden_channels=16, out_channels=2, heads=6)\n",
        "#optimizer = Adam(model.parameters(), lr=0.01)\n",
        "optimizer = Adam(model.parameters(), lr=0.001, weight_decay=5e-4)"
      ]
    },
    {
      "cell_type": "markdown",
      "id": "ucLZ2EYKon3i",
      "metadata": {
        "id": "ucLZ2EYKon3i"
      },
      "source": [
        "The model is trained for 50 epochs. Here's how it works:\n",
        "\n",
        "1. Training Mode: The model is set to `train()` mode.\n",
        "2. Forward Pass:\n",
        "> - Compute node-level embeddings using the GAT layers.\n",
        "> - Aggregate node embeddings to graph-level predictions using `global_mean_pool`.\n",
        "3. Loss Calculation: Compute the negative log-likelihood loss between predicted and true labels.\n",
        "4. Backward Pass and Optimization: Update model weights using backpropagation and the Adam optimizer."
      ]
    },
    {
      "cell_type": "code",
      "execution_count": 31,
      "id": "kcNAZjE8WRsl",
      "metadata": {
        "colab": {
          "base_uri": "https://localhost:8080/"
        },
        "id": "kcNAZjE8WRsl",
        "outputId": "e225cec0-10de-42c0-aff6-70d0c72d656f"
      },
      "outputs": [
        {
          "output_type": "stream",
          "name": "stdout",
          "text": [
            "Epoch 1, Loss: 187.41865992546082\n",
            "Epoch 2, Loss: 181.57717514038086\n",
            "Epoch 3, Loss: 180.6184875369072\n",
            "Epoch 4, Loss: 179.17058417201042\n",
            "Epoch 5, Loss: 178.18876558542252\n",
            "Epoch 6, Loss: 177.03513932228088\n",
            "Epoch 7, Loss: 176.59065699577332\n",
            "Epoch 8, Loss: 175.9703362584114\n",
            "Epoch 9, Loss: 173.13529780507088\n",
            "Epoch 10, Loss: 173.2721626162529\n",
            "Epoch 11, Loss: 173.35892432928085\n",
            "Epoch 12, Loss: 174.13810521364212\n",
            "Epoch 13, Loss: 173.94898653030396\n",
            "Epoch 14, Loss: 171.63072794675827\n",
            "Epoch 15, Loss: 169.90258753299713\n",
            "Epoch 16, Loss: 169.1829316318035\n",
            "Epoch 17, Loss: 169.001834243536\n",
            "Epoch 18, Loss: 169.54145017266273\n",
            "Epoch 19, Loss: 168.21198716759682\n",
            "Epoch 20, Loss: 167.36278399825096\n",
            "Epoch 21, Loss: 167.32471150159836\n",
            "Epoch 22, Loss: 167.36064705252647\n",
            "Epoch 23, Loss: 165.6844358742237\n",
            "Epoch 24, Loss: 166.44317176938057\n",
            "Epoch 25, Loss: 165.68602538108826\n",
            "Epoch 26, Loss: 166.94957980513573\n",
            "Epoch 27, Loss: 167.15816363692284\n",
            "Epoch 28, Loss: 166.29526168107986\n",
            "Epoch 29, Loss: 166.69348648190498\n",
            "Epoch 30, Loss: 164.67374095320702\n",
            "Epoch 31, Loss: 163.75731909275055\n",
            "Epoch 32, Loss: 163.95554810762405\n",
            "Epoch 33, Loss: 161.41214987635612\n",
            "Epoch 34, Loss: 162.86269435286522\n",
            "Epoch 35, Loss: 163.81878125667572\n",
            "Epoch 36, Loss: 161.743039727211\n",
            "Epoch 37, Loss: 163.38032907247543\n",
            "Epoch 38, Loss: 160.81190100312233\n",
            "Epoch 39, Loss: 160.50763255357742\n",
            "Epoch 40, Loss: 160.2940266430378\n",
            "Epoch 41, Loss: 161.45026433467865\n",
            "Epoch 42, Loss: 159.81784069538116\n",
            "Epoch 43, Loss: 159.1402763426304\n",
            "Epoch 44, Loss: 159.17669826745987\n",
            "Epoch 45, Loss: 158.81359073519707\n",
            "Epoch 46, Loss: 160.59090209007263\n",
            "Epoch 47, Loss: 159.01855051517487\n",
            "Epoch 48, Loss: 158.2425298690796\n",
            "Epoch 49, Loss: 158.74202239513397\n",
            "Epoch 50, Loss: 157.3388898074627\n",
            "Epoch 51, Loss: 156.97705814242363\n",
            "Epoch 52, Loss: 155.63221064209938\n",
            "Epoch 53, Loss: 156.38515174388885\n",
            "Epoch 54, Loss: 157.14675045013428\n",
            "Epoch 55, Loss: 153.85358002781868\n",
            "Epoch 56, Loss: 155.8259397149086\n",
            "Epoch 57, Loss: 154.77129119634628\n",
            "Epoch 58, Loss: 152.74306550621986\n",
            "Epoch 59, Loss: 155.3103386759758\n",
            "Epoch 60, Loss: 153.34896996617317\n",
            "Epoch 61, Loss: 156.49969962239265\n",
            "Epoch 62, Loss: 155.20312094688416\n",
            "Epoch 63, Loss: 154.0304865539074\n",
            "Epoch 64, Loss: 156.39278882741928\n",
            "Epoch 65, Loss: 158.11901080608368\n",
            "Epoch 66, Loss: 154.67697009444237\n",
            "Epoch 67, Loss: 153.04328483343124\n",
            "Epoch 68, Loss: 151.5869326889515\n",
            "Epoch 69, Loss: 153.30762946605682\n",
            "Epoch 70, Loss: 153.18042036890984\n",
            "Epoch 71, Loss: 152.2770410478115\n",
            "Epoch 72, Loss: 151.50640577077866\n",
            "Epoch 73, Loss: 152.65782144665718\n",
            "Epoch 74, Loss: 150.79057759046555\n",
            "Epoch 75, Loss: 151.6874595284462\n",
            "Epoch 76, Loss: 151.81440389156342\n",
            "Epoch 77, Loss: 151.51522415876389\n",
            "Epoch 78, Loss: 151.2345696091652\n",
            "Epoch 79, Loss: 149.77479103207588\n",
            "Epoch 80, Loss: 150.997162848711\n",
            "Epoch 81, Loss: 150.58101579546928\n",
            "Epoch 82, Loss: 150.62884762883186\n",
            "Epoch 83, Loss: 148.6187402009964\n",
            "Epoch 84, Loss: 149.86819553375244\n",
            "Epoch 85, Loss: 149.17209059000015\n",
            "Epoch 86, Loss: 147.06241518259048\n",
            "Epoch 87, Loss: 148.9765057861805\n",
            "Epoch 88, Loss: 147.83827084302902\n",
            "Epoch 89, Loss: 147.13263201713562\n",
            "Epoch 90, Loss: 147.97831410169601\n",
            "Epoch 91, Loss: 147.26197996735573\n",
            "Epoch 92, Loss: 149.30780091881752\n",
            "Epoch 93, Loss: 147.51249766349792\n",
            "Epoch 94, Loss: 147.39470714330673\n",
            "Epoch 95, Loss: 146.16089397668839\n",
            "Epoch 96, Loss: 146.79868119955063\n",
            "Epoch 97, Loss: 147.47339197993279\n",
            "Epoch 98, Loss: 145.1339422762394\n",
            "Epoch 99, Loss: 146.57638776302338\n",
            "Epoch 100, Loss: 144.94448859989643\n",
            "Epoch 101, Loss: 144.18280485272408\n",
            "Epoch 102, Loss: 145.91293516755104\n",
            "Epoch 103, Loss: 145.29726135730743\n",
            "Epoch 104, Loss: 146.76964285969734\n",
            "Epoch 105, Loss: 146.5502618700266\n",
            "Epoch 106, Loss: 145.805246591568\n",
            "Epoch 107, Loss: 143.9572439789772\n",
            "Epoch 108, Loss: 143.75932051241398\n",
            "Epoch 109, Loss: 146.92119681835175\n",
            "Epoch 110, Loss: 152.5740464925766\n",
            "Epoch 111, Loss: 147.29020428657532\n",
            "Epoch 112, Loss: 144.10809713602066\n",
            "Epoch 113, Loss: 144.33962479233742\n",
            "Epoch 114, Loss: 146.07177194952965\n",
            "Epoch 115, Loss: 144.1795269548893\n",
            "Epoch 116, Loss: 144.9374002814293\n",
            "Epoch 117, Loss: 145.48213677108288\n",
            "Epoch 118, Loss: 143.47821751236916\n",
            "Epoch 119, Loss: 142.13109654188156\n",
            "Epoch 120, Loss: 146.48564349114895\n",
            "Epoch 121, Loss: 141.89787340164185\n",
            "Epoch 122, Loss: 144.9510569423437\n",
            "Epoch 123, Loss: 142.91207069158554\n",
            "Epoch 124, Loss: 141.5402177721262\n",
            "Epoch 125, Loss: 142.9295068383217\n",
            "Epoch 126, Loss: 142.1195572912693\n",
            "Epoch 127, Loss: 142.4790686815977\n",
            "Epoch 128, Loss: 146.7982630431652\n",
            "Epoch 129, Loss: 145.87199646234512\n",
            "Epoch 130, Loss: 145.50209578871727\n",
            "Epoch 131, Loss: 142.20020692050457\n",
            "Epoch 132, Loss: 142.12638826668262\n",
            "Epoch 133, Loss: 143.12993422150612\n",
            "Epoch 134, Loss: 140.8395082950592\n",
            "Epoch 135, Loss: 143.5081741809845\n",
            "Epoch 136, Loss: 140.92124690115452\n",
            "Epoch 137, Loss: 140.64302957057953\n",
            "Epoch 138, Loss: 141.35760471224785\n",
            "Epoch 139, Loss: 140.43722528219223\n",
            "Epoch 140, Loss: 141.59087139368057\n",
            "Epoch 141, Loss: 140.45938113331795\n",
            "Epoch 142, Loss: 141.16157498955727\n",
            "Epoch 143, Loss: 139.7327255010605\n",
            "Epoch 144, Loss: 138.12994284927845\n",
            "Epoch 145, Loss: 140.33230958878994\n",
            "Epoch 146, Loss: 139.67475152015686\n",
            "Epoch 147, Loss: 138.9383145570755\n",
            "Epoch 148, Loss: 138.88202725350857\n",
            "Epoch 149, Loss: 140.02810701727867\n",
            "Epoch 150, Loss: 139.2108096331358\n",
            "Epoch 151, Loss: 137.52595791220665\n",
            "Epoch 152, Loss: 138.4372128546238\n",
            "Epoch 153, Loss: 140.47469641268253\n",
            "Epoch 154, Loss: 138.52778421342373\n",
            "Epoch 155, Loss: 139.135304749012\n",
            "Epoch 156, Loss: 137.26762627065182\n",
            "Epoch 157, Loss: 142.40097844600677\n",
            "Epoch 158, Loss: 137.77933430671692\n",
            "Epoch 159, Loss: 137.6792056262493\n",
            "Epoch 160, Loss: 139.37309819459915\n",
            "Epoch 161, Loss: 139.09847530722618\n",
            "Epoch 162, Loss: 136.27674263715744\n",
            "Epoch 163, Loss: 140.31731778383255\n",
            "Epoch 164, Loss: 137.03584234416485\n",
            "Epoch 165, Loss: 136.38571991026402\n",
            "Epoch 166, Loss: 138.06635493040085\n",
            "Epoch 167, Loss: 137.50211443006992\n",
            "Epoch 168, Loss: 137.30399519205093\n",
            "Epoch 169, Loss: 135.53759188950062\n",
            "Epoch 170, Loss: 135.59761156141758\n",
            "Epoch 171, Loss: 136.31275330483913\n",
            "Epoch 172, Loss: 137.53775410354137\n",
            "Epoch 173, Loss: 138.74115684628487\n",
            "Epoch 174, Loss: 137.79923462867737\n",
            "Epoch 175, Loss: 136.67580626904964\n",
            "Epoch 176, Loss: 136.11014844477177\n",
            "Epoch 177, Loss: 137.16580724716187\n",
            "Epoch 178, Loss: 136.7627464979887\n",
            "Epoch 179, Loss: 135.14862988889217\n",
            "Epoch 180, Loss: 134.71597830951214\n",
            "Epoch 181, Loss: 133.43155540525913\n",
            "Epoch 182, Loss: 134.68965592980385\n",
            "Epoch 183, Loss: 136.30555975437164\n",
            "Epoch 184, Loss: 133.44379250705242\n",
            "Epoch 185, Loss: 134.6769566088915\n",
            "Epoch 186, Loss: 135.2005688548088\n",
            "Epoch 187, Loss: 134.54582706093788\n",
            "Epoch 188, Loss: 135.3129217326641\n",
            "Epoch 189, Loss: 134.36954176425934\n",
            "Epoch 190, Loss: 134.3102084994316\n",
            "Epoch 191, Loss: 135.5448152422905\n",
            "Epoch 192, Loss: 137.31261762976646\n",
            "Epoch 193, Loss: 137.13067846000195\n",
            "Epoch 194, Loss: 134.0975526869297\n",
            "Epoch 195, Loss: 135.79350695014\n",
            "Epoch 196, Loss: 134.57997001707554\n",
            "Epoch 197, Loss: 133.55650193989277\n",
            "Epoch 198, Loss: 135.45337146520615\n",
            "Epoch 199, Loss: 133.85813987255096\n",
            "Epoch 200, Loss: 133.1156508922577\n",
            "Epoch 201, Loss: 134.19256435334682\n",
            "Epoch 202, Loss: 131.05811692774296\n",
            "Epoch 203, Loss: 134.47031663358212\n",
            "Epoch 204, Loss: 135.55632103979588\n",
            "Epoch 205, Loss: 133.7497861981392\n",
            "Epoch 206, Loss: 133.22773468494415\n",
            "Epoch 207, Loss: 132.30119562149048\n",
            "Epoch 208, Loss: 131.99439392983913\n",
            "Epoch 209, Loss: 133.58078163862228\n",
            "Epoch 210, Loss: 133.18827909231186\n",
            "Epoch 211, Loss: 132.83065788447857\n",
            "Epoch 212, Loss: 131.04605171084404\n",
            "Epoch 213, Loss: 133.70930343866348\n",
            "Epoch 214, Loss: 133.9150729328394\n",
            "Epoch 215, Loss: 130.3710011690855\n",
            "Epoch 216, Loss: 132.3209651261568\n",
            "Epoch 217, Loss: 131.45606988668442\n",
            "Epoch 218, Loss: 133.26508270204067\n",
            "Epoch 219, Loss: 131.48937395215034\n",
            "Epoch 220, Loss: 133.34798504412174\n",
            "Epoch 221, Loss: 128.25018945336342\n",
            "Epoch 222, Loss: 128.44389282166958\n",
            "Epoch 223, Loss: 134.60518483817577\n",
            "Epoch 224, Loss: 131.45731861889362\n",
            "Epoch 225, Loss: 129.5737630724907\n",
            "Epoch 226, Loss: 131.7658203691244\n",
            "Epoch 227, Loss: 129.93517319858074\n",
            "Epoch 228, Loss: 129.54951353371143\n",
            "Epoch 229, Loss: 128.526801943779\n",
            "Epoch 230, Loss: 128.19160540401936\n",
            "Epoch 231, Loss: 129.15383699536324\n",
            "Epoch 232, Loss: 129.3323110640049\n",
            "Epoch 233, Loss: 128.83139902353287\n",
            "Epoch 234, Loss: 129.15930096805096\n",
            "Epoch 235, Loss: 129.84799522161484\n",
            "Epoch 236, Loss: 131.04943439364433\n",
            "Epoch 237, Loss: 131.85952004790306\n",
            "Epoch 238, Loss: 130.80140027403831\n",
            "Epoch 239, Loss: 127.53765916824341\n",
            "Epoch 240, Loss: 130.33400776982307\n",
            "Epoch 241, Loss: 129.003382101655\n",
            "Epoch 242, Loss: 130.13074024021626\n",
            "Epoch 243, Loss: 128.81498397886753\n",
            "Epoch 244, Loss: 127.67888078093529\n",
            "Epoch 245, Loss: 127.62582987546921\n",
            "Epoch 246, Loss: 125.92067968845367\n",
            "Epoch 247, Loss: 131.59844028949738\n",
            "Epoch 248, Loss: 126.19067667424679\n",
            "Epoch 249, Loss: 128.01714430749416\n",
            "Epoch 250, Loss: 125.88622616231441\n",
            "Epoch 251, Loss: 128.6275508850813\n",
            "Epoch 252, Loss: 129.00430670380592\n",
            "Epoch 253, Loss: 125.78167867660522\n",
            "Epoch 254, Loss: 125.86651010811329\n",
            "Epoch 255, Loss: 137.8455676585436\n",
            "Epoch 256, Loss: 132.41933761537075\n",
            "Epoch 257, Loss: 130.15370497107506\n",
            "Epoch 258, Loss: 129.14294078946114\n",
            "Epoch 259, Loss: 128.9105180054903\n",
            "Epoch 260, Loss: 126.24539142847061\n",
            "Epoch 261, Loss: 125.39330971240997\n",
            "Epoch 262, Loss: 127.34285952150822\n",
            "Epoch 263, Loss: 127.46216477453709\n",
            "Epoch 264, Loss: 128.4427102804184\n",
            "Epoch 265, Loss: 126.32831755280495\n",
            "Epoch 266, Loss: 127.45204231142998\n",
            "Epoch 267, Loss: 127.8531413525343\n",
            "Epoch 268, Loss: 127.22283798456192\n",
            "Epoch 269, Loss: 127.00343005359173\n",
            "Epoch 270, Loss: 128.08471110463142\n",
            "Epoch 271, Loss: 125.53644175082445\n",
            "Epoch 272, Loss: 127.6879123300314\n",
            "Epoch 273, Loss: 123.75871360301971\n",
            "Epoch 274, Loss: 125.28650949895382\n",
            "Epoch 275, Loss: 128.00104351341724\n",
            "Epoch 276, Loss: 125.38535588979721\n",
            "Epoch 277, Loss: 124.11767941713333\n",
            "Epoch 278, Loss: 124.25868276506662\n",
            "Epoch 279, Loss: 127.7249058932066\n",
            "Epoch 280, Loss: 126.50441646575928\n",
            "Epoch 281, Loss: 128.27292902767658\n",
            "Epoch 282, Loss: 127.92481337487698\n",
            "Epoch 283, Loss: 125.97761063277721\n",
            "Epoch 284, Loss: 125.2618595212698\n",
            "Epoch 285, Loss: 124.18604062497616\n",
            "Epoch 286, Loss: 127.97138419747353\n",
            "Epoch 287, Loss: 126.89105877280235\n",
            "Epoch 288, Loss: 123.13733619451523\n",
            "Epoch 289, Loss: 122.77539370954037\n",
            "Epoch 290, Loss: 124.89536318182945\n",
            "Epoch 291, Loss: 126.29034093022346\n",
            "Epoch 292, Loss: 124.38135704398155\n",
            "Epoch 293, Loss: 124.97612200677395\n",
            "Epoch 294, Loss: 124.12508647143841\n",
            "Epoch 295, Loss: 121.1082395017147\n",
            "Epoch 296, Loss: 126.27210834622383\n",
            "Epoch 297, Loss: 125.46407189965248\n",
            "Epoch 298, Loss: 124.84619376063347\n",
            "Epoch 299, Loss: 126.72253267467022\n",
            "Epoch 300, Loss: 123.48246462643147\n"
          ]
        }
      ],
      "source": [
        "for epoch in range(300):\n",
        "    model.train()\n",
        "    total_loss = 0\n",
        "\n",
        "    for data in train_loader:\n",
        "        optimizer.zero_grad()\n",
        "\n",
        "        out = model(data.x, data.edge_index, data.edge_attr, data.batch)\n",
        "\n",
        "        # Forward pass\n",
        "        #node_output = model(data.x, data.edge_index, data.edge_attr)\n",
        "\n",
        "        # Aggregate node outputs to graph-level predictions using batch information\n",
        "        #graph_output = global_mean_pool(node_output, data.batch)\n",
        "\n",
        "        # Compute loss\n",
        "        #loss = F.nll_loss(graph_output, data.y)\n",
        "        #loss = F.nll_loss(out, data.y)\n",
        "        loss = F.cross_entropy(out, data.y)\n",
        "\n",
        "        # Backward pass\n",
        "        loss.backward()\n",
        "        optimizer.step()\n",
        "\n",
        "        total_loss += loss.item()\n",
        "    print(f\"Epoch {epoch+1}, Loss: {total_loss}\")"
      ]
    },
    {
      "cell_type": "code",
      "execution_count": null,
      "id": "RRnsGwNlxl9c",
      "metadata": {
        "id": "RRnsGwNlxl9c"
      },
      "outputs": [],
      "source": [
        "torch.save(model.state_dict(), \"gat_model.pth\")"
      ]
    },
    {
      "cell_type": "markdown",
      "id": "Z56KSzZkpLdF",
      "metadata": {
        "id": "Z56KSzZkpLdF"
      },
      "source": [
        "For each graph in the test set:\n",
        "- Forward Pass: Generate node-level embeddings using the trained model.\n",
        "- Graph-Level Aggregation: Aggregate node-level outputs to a single graph-level prediction using `global_mean_pool`.\n",
        "- Class Prediction: Use the `argmax` function to get the predicted class for the graph."
      ]
    },
    {
      "cell_type": "code",
      "execution_count": 32,
      "id": "aUesVkvq1SDL",
      "metadata": {
        "id": "aUesVkvq1SDL"
      },
      "outputs": [],
      "source": [
        "# Evaluate model on test set (with graph-level pooling)\n",
        "model.eval()\n",
        "all_preds = []\n",
        "all_labels = []\n",
        "all_probs = []\n",
        "\n",
        "\n",
        "for data in test_graphs:\n",
        "\n",
        "    # Forward pass (note: model already pools and gives graph-level prediction)\n",
        "    out = model(data.x, data.edge_index, data.edge_attr, data.batch)\n",
        "\n",
        "    # Get predicted class\n",
        "    preds = out.argmax(dim=1)\n",
        "\n",
        "    # Forward pass\n",
        "    #node_output = model(data.x, data.edge_index, data.edge_attr)\n",
        "\n",
        "    # Aggregate node outputs to graph-level predictions using batch information\n",
        "    #graph_prediction = global_mean_pool(node_output, data.batch)\n",
        "\n",
        "    # Get predicted class\n",
        "    #preds = graph_prediction.argmax(dim=1)\n",
        "\n",
        "    # Store predicted probabilities for the positive class (class 1)\n",
        "    probs = torch.softmax(out, dim=1)[:, 1].detach().numpy()  # Probabilities for class 1\n",
        "\n",
        "    all_preds.append(preds.item())\n",
        "    all_labels.append(data.y.item())\n",
        "    all_probs.extend(probs)  # Append probabilities"
      ]
    },
    {
      "cell_type": "code",
      "execution_count": 33,
      "id": "rg5NZ7ymWgYL",
      "metadata": {
        "colab": {
          "base_uri": "https://localhost:8080/"
        },
        "id": "rg5NZ7ymWgYL",
        "outputId": "ed249721-a23c-44ae-ba74-7ab47bc394b0"
      },
      "outputs": [
        {
          "output_type": "stream",
          "name": "stdout",
          "text": [
            "              precision    recall  f1-score   support\n",
            "\n",
            "     Control       0.70      0.56      0.62       477\n",
            "    Epilepsy       0.71      0.82      0.76       625\n",
            "\n",
            "    accuracy                           0.71      1102\n",
            "   macro avg       0.71      0.69      0.69      1102\n",
            "weighted avg       0.71      0.71      0.70      1102\n",
            "\n"
          ]
        }
      ],
      "source": [
        "# Generate classification report\n",
        "print(classification_report(all_labels, all_preds, target_names=['Control', 'Epilepsy']))"
      ]
    },
    {
      "cell_type": "code",
      "execution_count": 34,
      "id": "7cFuNsmSCZFr",
      "metadata": {
        "colab": {
          "base_uri": "https://localhost:8080/",
          "height": 581
        },
        "id": "7cFuNsmSCZFr",
        "outputId": "d82d47dd-369d-493a-9f58-64be51f1e7ca"
      },
      "outputs": [
        {
          "output_type": "display_data",
          "data": {
            "text/plain": [
              "<Figure size 800x600 with 1 Axes>"
            ],
            "image/png": "[encoded data removed]"
          },
          "metadata": {}
        },
        {
          "output_type": "stream",
          "name": "stdout",
          "text": [
            "AUC: 0.76\n"
          ]
        }
      ],
      "source": [
        "# Convert lists to numpy arrays\n",
        "all_labels = np.array(all_labels)\n",
        "all_probs = np.array(all_probs)\n",
        "\n",
        "#from sklearn.metrics import accuracy_score\n",
        "#threshold = 0.5\n",
        "#all_probs = (all_probs >= threshold).astype(int)\n",
        "#accuracy = accuracy_score(all_labels, all_probs)\n",
        "#print(accuracy)\n",
        "\n",
        "# Calculate ROC curve and AUC\n",
        "fpr, tpr, thresholds = roc_curve(all_labels, all_probs)\n",
        "roc_auc = auc(fpr, tpr)\n",
        "\n",
        "# Alternatively, calculate ROC AUC score directly\n",
        "roc_auc_score_value = roc_auc_score(all_labels, all_probs)\n",
        "\n",
        "# Plot ROC curve\n",
        "plt.figure(figsize=(8, 6))\n",
        "plt.plot(fpr, tpr, color='blue', lw=2, label=f'ROC curve (AUC = {roc_auc:.2f})')\n",
        "plt.plot([0, 1], [0, 1], color='gray', lw=1, linestyle='--', label='Random Guess')\n",
        "plt.xlim([0.0, 1.0])\n",
        "plt.ylim([0.0, 1.05])\n",
        "plt.xlabel('False Positive Rate (FPR)')\n",
        "plt.ylabel('True Positive Rate (TPR)')\n",
        "plt.title('Receiver Operating Characteristic (ROC) Curve')\n",
        "plt.legend(loc='lower right')\n",
        "plt.show()\n",
        "\n",
        "# Print AUC value\n",
        "print(f\"AUC: {roc_auc:.2f}\")"
      ]
    },
    {
      "cell_type": "markdown",
      "id": "VxB6UJYVvDUi",
      "metadata": {
        "id": "VxB6UJYVvDUi"
      },
      "source": [
        "The results show that the model is doing a decent job overall, with an accuracy of 65% and an AUC of 0.65, which is better than random guessing but still has room for improvement. It performs well at identifying instances of Epilepsy, correctly predicting 92% of them, but struggles with the Control class, only catching 28% of those cases. This suggests the model is better at recognizing Epilepsy but misses many Control instances, which could have been caused by data quality and lack of consistency in some samples. Model might have been improved with stricter rules for the quality of data, however there were not too many samples to begin with so we decided against it."
      ]
    },
    {
      "cell_type": "markdown",
      "id": "veDmqEeIXnSl",
      "metadata": {
        "id": "veDmqEeIXnSl"
      },
      "source": [
        "<!-- **Ways to possibly improve Model Performance?**\n",
        "\n",
        " 1. Add More Node Features\n",
        "Currently, you are using Katz FD and energy in 4 frequency bands (delta, theta, alpha, beta). You can include additional features like:\n",
        "- **Signal Entropy:** A measure of the complexity of the EEG signal.\n",
        "- **Inter-channel Correlation:** Measures the similarity between signals from different nodes.\n",
        "- **Amplitude Variability:** Distribution of amplitude values over time.\n",
        "\n",
        "---\n",
        "\n",
        " 2. Experiment with Model Hyperparameters\n",
        "Try modifying the following parameters:\n",
        "- **Increase `hidden_channels`:** Add more hidden channels in the GAT model to capture complex patterns.\n",
        "- **Increase the number of `heads` in GATConv:** More attention heads allow the model to learn richer relationships between nodes.\n",
        "\n",
        "---\n",
        "\n",
        "3. Regularization\n",
        "To prevent overfitting, apply regularization techniques:\n",
        "- **Dropout:** Add dropout layers to the GAT model to randomly drop some neurons during training.\n",
        "- **L2 Regularization:** Penalize large weights in the model to enforce simplicity.\n",
        "\n",
        "---\n",
        "\n",
        "4. Balance Class Weights\n",
        "If the dataset is imbalanced, use class weights to give more importance to underrepresented classes.\n",
        "\n",
        "---\n",
        "\n",
        "5. Increase the Number of Epochs\n",
        "Train the model for more epochs to allow it to learn better patterns in the data. -->"
      ]
    },
    {
      "cell_type": "markdown",
      "id": "90kJIUBaame7",
      "metadata": {
        "id": "90kJIUBaame7"
      },
      "source": [
        "### Interpretability"
      ]
    },
    {
      "cell_type": "markdown",
      "id": "Q9PGTzWopxZB",
      "metadata": {
        "id": "Q9PGTzWopxZB"
      },
      "source": [
        "This process analyzes the importance of graph edges based on the attention weights learned by the GAT model. Attention weights indicate how much importance the model assigns to connections between nodes (edges) during message passing.\n",
        "\n",
        "For each of the first 5 graphs in the test set:\n",
        "\n",
        "1. Retrieve Attention Weights: Use the get_attention_weights function to extract the weights.\n",
        "2. Convert to NumPy: Convert the weights to a NumPy array for visualization.\n",
        "3. Plot Histogram: Display the distribution of attention weights using a histogram."
      ]
    },
    {
      "cell_type": "code",
      "execution_count": null,
      "id": "b4FfiiTeb1se",
      "metadata": {
        "id": "b4FfiiTeb1se"
      },
      "outputs": [],
      "source": [
        "def get_attention_weights(model, data):\n",
        "    with torch.no_grad():\n",
        "        # Perform forward pass and retrieve attention weights\n",
        "        _, attention_weights = model.gat1(data.x, data.edge_index, return_attention_weights=True)\n",
        "    return attention_weights\n",
        "\n",
        "# Iterate through multiple graphs and visualize attention weights\n",
        "for idx, data in enumerate(test_graphs[:5]):  # Analyze first 5 graphs\n",
        "    attention_weights = get_attention_weights(model, data)\n",
        "\n",
        "    # Convert attention weights to NumPy\n",
        "    attention_weights = attention_weights[1].numpy()  # Use [1] to get the actual attention weights\n",
        "\n",
        "    # Flatten the attention weights for histogram\n",
        "    flattened_weights = attention_weights.flatten()\n",
        "\n",
        "    # Plot histogram\n",
        "    plt.hist(flattened_weights, bins=20, color='blue', alpha=0.7)\n",
        "    plt.xlabel(\"Attention Weights\")\n",
        "    plt.ylabel(\"Frequency\")\n",
        "    plt.title(f\"Attention Weights for Graph {idx + 1}\")\n",
        "    plt.show()"
      ]
    },
    {
      "cell_type": "markdown",
      "id": "esWLljXGwXH8",
      "metadata": {
        "id": "esWLljXGwXH8"
      },
      "source": [
        "From the attention weights plot we see that the attention weights are predominantly weighting most edges as not important at all, some as very important, and much less values in between 0 and 1, which suggests the model is not effectively learning to differentiate between edges."
      ]
    },
    {
      "cell_type": "markdown",
      "id": "NQOKtvEmgkKp",
      "metadata": {
        "id": "NQOKtvEmgkKp"
      },
      "source": [
        "Now using Gat for node importance."
      ]
    },
    {
      "cell_type": "code",
      "execution_count": null,
      "id": "qrYFitVcgOmP",
      "metadata": {
        "id": "qrYFitVcgOmP"
      },
      "outputs": [],
      "source": [
        "# Example usage\n",
        "data = test_graphs[0]  # Select one graph for analysis\n",
        "batch = torch.zeros(data.x.size(0), dtype=torch.long)  # All nodes belong to the same graph\n",
        "\n",
        "# Create Grad-CAM instance\n",
        "grad_cam = GradCamGAT(model, target_layer=model.gat1)  # Use the first GAT layer as the target\n",
        "\n",
        "# Forward pass through Grad-CAM\n",
        "graph_output, node_output = grad_cam.forward(data.x, data.edge_index, data.edge_attr, batch)\n",
        "\n",
        "# Backward pass to compute gradients\n",
        "predicted_class = graph_output.argmax(dim=1).item()  # Get the predicted class\n",
        "grad_cam.backward(graph_output, class_idx=predicted_class)\n",
        "\n",
        "# Compute node importance\n",
        "node_importance = grad_cam.get_node_importance()\n",
        "\n",
        "# Visualize node importance\n",
        "plt.bar(range(len(node_importance)), node_importance.numpy(), color='green')\n",
        "plt.xlabel(\"Node Index\")\n",
        "plt.ylabel(\"Importance\")\n",
        "plt.title(\"Node Importance via Grad-CAM\")\n",
        "plt.show()"
      ]
    },
    {
      "cell_type": "markdown",
      "id": "lYdMqzUK9_gf",
      "metadata": {
        "id": "lYdMqzUK9_gf"
      },
      "source": [
        "One of the nodes has a significantly higher importance than the others, one is deemed insignificant (<0). Concerning thing in above results is that the rest are uniform which signals that model is likely having underfitting issues."
      ]
    },
    {
      "cell_type": "markdown",
      "id": "uLL7HjJD3Z7O",
      "metadata": {
        "id": "uLL7HjJD3Z7O"
      },
      "source": [
        "# Guinea-Bissau Dataset"
      ]
    },
    {
      "cell_type": "markdown",
      "id": "caLOrMVqzNen",
      "metadata": {
        "id": "caLOrMVqzNen"
      },
      "source": [
        "We'll do the same for Guinea-Bissau dataset."
      ]
    },
    {
      "cell_type": "markdown",
      "id": "T6pv8-k28mDf",
      "metadata": {
        "id": "T6pv8-k28mDf"
      },
      "source": [
        "Process all EEG files, create graphs and feature files."
      ]
    },
    {
      "cell_type": "code",
      "execution_count": null,
      "id": "rMfF0oV98mDg",
      "metadata": {
        "id": "rMfF0oV98mDg"
      },
      "outputs": [],
      "source": [
        "#process_all_files(gb_df, \"output4/graphs_gb\", \"output4/features_gb\")\n",
        "\n",
        "n_epochs_per_sample = process_all_files_with_epochs(\n",
        "    ni_df,\n",
        "    \"output4/graphs_gb_epoched\",\n",
        "    \"output4/features_gb_epoched\",\n",
        "    duration=5,\n",
        "    overlap=0\n",
        ")"
      ]
    },
    {
      "cell_type": "markdown",
      "id": "NCfej49q8mDg",
      "metadata": {
        "id": "NCfej49q8mDg"
      },
      "source": [
        "Similarly, let's load one sample graph"
      ]
    },
    {
      "cell_type": "code",
      "execution_count": null,
      "id": "nmAbu9xu8mDg",
      "metadata": {
        "id": "nmAbu9xu8mDg"
      },
      "outputs": [],
      "source": [
        "import networkx as nx\n",
        "\n",
        "# Path to a sample .gml file\n",
        "gml_file = \"output4/graphs_gb/GB-6_graph.gml\"\n",
        "\n",
        "# Load the graph from the .gml file\n",
        "graph = nx.read_gml(gml_file)\n",
        "\n",
        "# Print basic information about the graph\n",
        "print(\"Number of nodes:\", graph.number_of_nodes())\n",
        "print(\"Number of edges:\", graph.number_of_edges())\n",
        "\n",
        "# Display a few edges with their weights\n",
        "print(\"Sample edges with weights:\")\n",
        "for u, v, weight in graph.edges(data='weight'):\n",
        "    print(f\"({u}, {v}) -> weight: {weight}\")"
      ]
    },
    {
      "cell_type": "markdown",
      "id": "BYjvn-ii8mDg",
      "metadata": {
        "id": "BYjvn-ii8mDg"
      },
      "source": [
        "Visualizing the graph."
      ]
    },
    {
      "cell_type": "code",
      "execution_count": null,
      "id": "etyvWoSU8mDg",
      "metadata": {
        "id": "etyvWoSU8mDg"
      },
      "outputs": [],
      "source": [
        "# Load the graph\n",
        "graph = nx.read_gml(gml_file)\n",
        "\n",
        "# Draw the graph\n",
        "plt.figure(figsize=(10, 8))\n",
        "pos = nx.spring_layout(graph)  # Automatic layout for nodes\n",
        "nx.draw(\n",
        "    graph,\n",
        "    pos,\n",
        "    with_labels=True,\n",
        "    node_size=700,\n",
        "    node_color=\"lightblue\",\n",
        "    font_size=10,\n",
        "    font_color=\"black\",\n",
        ")\n",
        "# Add edge labels showing weights\n",
        "nx.draw_networkx_edge_labels(\n",
        "    graph, pos, edge_labels={(u, v): f\"{d['weight']:.2f}\" for u, v, d in graph.edges(data=True)}\n",
        ")\n",
        "plt.title(\"Visualization of EEG Graph (PLV)\")\n",
        "plt.show()\n"
      ]
    },
    {
      "cell_type": "markdown",
      "id": "H1qELjia8mDg",
      "metadata": {
        "id": "H1qELjia8mDg"
      },
      "source": [
        "### GAT model"
      ]
    },
    {
      "cell_type": "code",
      "execution_count": null,
      "id": "NNfkP1rF8mDg",
      "metadata": {
        "id": "NNfkP1rF8mDg"
      },
      "outputs": [],
      "source": [
        "# Directory containing .gml files\n",
        "gml_dir = \"output4/graphs_gb\"\n",
        "feature_dir = \"output4/features_gb\""
      ]
    },
    {
      "cell_type": "code",
      "execution_count": null,
      "id": "jRiWzlYp8mDh",
      "metadata": {
        "id": "jRiWzlYp8mDh"
      },
      "outputs": [],
      "source": [
        "# Load data\n",
        "#graphs, labels = load_graphs_and_labels_with_features(gml_dir, feature_dir, gb_df)\n",
        "\n",
        "# Load the epoched data with properly expanded labels\n",
        "graphs, labels = load_graphs_and_labels_with_epochs(\n",
        "    \"output4/graphs_gb_epoched\",\n",
        "    \"output4/features_gb_epoched\",\n",
        "    ni_df,\n",
        "    n_epochs_per_sample\n",
        ")"
      ]
    },
    {
      "cell_type": "markdown",
      "id": "vYeCn48m8mDh",
      "metadata": {
        "id": "vYeCn48m8mDh"
      },
      "source": [
        "To ensure that both classes (Control and Epilepsy) are proportionally represented in the train and test datasets, we use a stratified split. This ensures the class balance is maintained in both subsets."
      ]
    },
    {
      "cell_type": "code",
      "execution_count": null,
      "id": "uFhEkoB_8mDh",
      "metadata": {
        "id": "uFhEkoB_8mDh"
      },
      "outputs": [],
      "source": [
        "# Stratified split to ensure both classes are represented in train and test sets\n",
        "train_graphs, test_graphs, train_labels, test_labels = train_test_split(\n",
        "    graphs, labels, test_size=0.2, stratify=labels, random_state=42\n",
        ")\n",
        "\n",
        "\n",
        "print(\"Train class distribution:\", Counter(train_labels.numpy()))\n",
        "print(\"Test class distribution:\", Counter(test_labels.numpy()))\n"
      ]
    },
    {
      "cell_type": "markdown",
      "id": "D8W_ewNH8mDh",
      "metadata": {
        "id": "D8W_ewNH8mDh"
      },
      "source": [
        "Setting up the DataLoader and Model Initialization"
      ]
    },
    {
      "cell_type": "code",
      "execution_count": null,
      "id": "a-j7lj1d8mDh",
      "metadata": {
        "id": "a-j7lj1d8mDh"
      },
      "outputs": [],
      "source": [
        "# Create DataLoader\n",
        "train_loader = DataLoader(train_graphs, batch_size=16, shuffle=True)\n",
        "\n",
        "# Initialize model\n",
        "model = GATModel(in_channels=5, hidden_channels=8, out_channels=2)  # Binary classification\n",
        "#optimizer = Adam(model.parameters(), lr=0.01)\n",
        "optimizer = Adam(model.parameters(), lr=0.001, weight_decay=5e-4)"
      ]
    },
    {
      "cell_type": "code",
      "execution_count": null,
      "id": "NuHNAtbL8mDi",
      "metadata": {
        "id": "NuHNAtbL8mDi"
      },
      "outputs": [],
      "source": [
        "for epoch in range(50):\n",
        "    model.train()\n",
        "    total_loss = 0\n",
        "    for data in train_loader:\n",
        "        optimizer.zero_grad()\n",
        "\n",
        "        # Forward pass\n",
        "        node_output = model(data.x, data.edge_index, data.edge_attr)\n",
        "\n",
        "        # Aggregate node outputs to graph-level predictions using batch information\n",
        "        graph_output = global_mean_pool(node_output, data.batch)\n",
        "\n",
        "        # Compute loss\n",
        "        loss = F.nll_loss(graph_output, data.y)\n",
        "\n",
        "        # Backward pass\n",
        "        loss.backward()\n",
        "        optimizer.step()\n",
        "\n",
        "        total_loss += loss.item()\n",
        "    print(f\"Epoch {epoch+1}, Loss: {total_loss}\")"
      ]
    },
    {
      "cell_type": "code",
      "execution_count": null,
      "id": "ToF9qCyG8mDi",
      "metadata": {
        "id": "ToF9qCyG8mDi"
      },
      "outputs": [],
      "source": [
        "# Evaluate model on test set (with graph-level pooling)\n",
        "model.eval()\n",
        "all_preds = []\n",
        "all_labels = []\n",
        "all_probs = []\n",
        "\n",
        "for data in test_graphs:\n",
        "    # Forward pass\n",
        "    node_output = model(data.x, data.edge_index, data.edge_attr)\n",
        "\n",
        "    # Aggregate node outputs to graph-level predictions using batch information\n",
        "    graph_prediction = global_mean_pool(node_output, data.batch)\n",
        "\n",
        "    # Get predicted class\n",
        "    preds = graph_prediction.argmax(dim=1)\n",
        "\n",
        "\n",
        "    # Store predicted probabilities for the positive class (class 1)\n",
        "    probs = torch.softmax(graph_prediction, dim=1)[:, 1].detach().numpy()  # Probabilities for class 1\n",
        "\n",
        "\n",
        "    all_preds.append(preds.item())\n",
        "    all_labels.append(data.y.item())\n",
        "\n",
        "    all_probs.extend(probs)  # Append probabilities\n",
        "\n",
        "# Generate classification report\n",
        "print(classification_report(all_labels, all_preds, target_names=['Control', 'Epilepsy']))\n"
      ]
    },
    {
      "cell_type": "markdown",
      "id": "-a-IUxJY5UHh",
      "metadata": {
        "id": "-a-IUxJY5UHh"
      },
      "source": [
        "The model is struggling to correctly identify instances of the **Control** class, catching only 11% of them, while it performs much better with the **Epilepsy** class, correctly identifying 91% of those cases. Overall, the model's predictions are about 55% accurate, but the low recall for the Control class indicates it misses many of those instances. This suggests the model is biased toward the Epilepsy class and could benefit from more balanced dataset."
      ]
    },
    {
      "cell_type": "code",
      "execution_count": null,
      "id": "wBRfzFOaGtrj",
      "metadata": {
        "id": "wBRfzFOaGtrj"
      },
      "outputs": [],
      "source": [
        "# Convert lists to numpy arrays\n",
        "all_labels = np.array(all_labels)\n",
        "all_probs = np.array(all_probs)\n",
        "\n",
        "# Calculate ROC curve and AUC\n",
        "fpr, tpr, thresholds = roc_curve(all_labels, all_probs)\n",
        "roc_auc = auc(fpr, tpr)\n",
        "\n",
        "# Alternatively, calculate ROC AUC score directly\n",
        "roc_auc_score_value = roc_auc_score(all_labels, all_probs)\n",
        "\n",
        "# Plot ROC curve\n",
        "plt.figure(figsize=(8, 6))\n",
        "plt.plot(fpr, tpr, color='blue', lw=2, label=f'ROC curve (AUC = {roc_auc:.2f})')\n",
        "plt.plot([0, 1], [0, 1], color='gray', lw=1, linestyle='--', label='Random Guess')\n",
        "plt.xlim([0.0, 1.0])\n",
        "plt.ylim([0.0, 1.05])\n",
        "plt.xlabel('False Positive Rate (FPR)')\n",
        "plt.ylabel('True Positive Rate (TPR)')\n",
        "plt.title('Receiver Operating Characteristic (ROC) Curve')\n",
        "plt.legend(loc='lower right')\n",
        "plt.show()\n",
        "\n",
        "# Print AUC value\n",
        "print(f\"AUC: {roc_auc:.2f}\")"
      ]
    },
    {
      "cell_type": "markdown",
      "id": "I-oFZ4HQ8mDi",
      "metadata": {
        "id": "I-oFZ4HQ8mDi"
      },
      "source": [
        "### Interpretability"
      ]
    },
    {
      "cell_type": "code",
      "execution_count": null,
      "id": "We6P4jix8mDi",
      "metadata": {
        "id": "We6P4jix8mDi"
      },
      "outputs": [],
      "source": [
        "# Extract attention weights\n",
        "def get_attention_weights(model, data):\n",
        "    with torch.no_grad():\n",
        "        # Perform forward pass and retrieve attention weights\n",
        "        _, attention_weights = model.gat1(data.x, data.edge_index, return_attention_weights=True)\n",
        "    return attention_weights\n",
        "\n",
        "# Iterate through multiple graphs and visualize attention weights\n",
        "for idx, data in enumerate(test_graphs[:7]):  # Analyze first 5 graphs\n",
        "    attention_weights = get_attention_weights(model, data)\n",
        "\n",
        "    # Convert attention weights to NumPy\n",
        "    attention_weights = attention_weights[1].numpy()  # Use [1] to get the actual attention weights\n",
        "\n",
        "    # Flatten the attention weights for histogram\n",
        "    flattened_weights = attention_weights.flatten()\n",
        "\n",
        "    # Plot histogram\n",
        "    plt.hist(flattened_weights, bins=20, color='blue', alpha=0.7)\n",
        "    plt.xlabel(\"Attention Weights\")\n",
        "    plt.ylabel(\"Frequency\")\n",
        "    plt.title(f\"Attention Weights for Graph {idx + 1}\")\n",
        "    plt.show()"
      ]
    },
    {
      "cell_type": "markdown",
      "id": "d6AE7TUy3gVQ",
      "metadata": {
        "id": "d6AE7TUy3gVQ"
      },
      "source": [
        "Again we mostly see that model considers majory of node unimportany, around 20 are very important, and only some are somewhere in-between. Once again we observe this diffculty with learning these patterns."
      ]
    },
    {
      "cell_type": "code",
      "execution_count": null,
      "id": "d0YUEVh58mDj",
      "metadata": {
        "id": "d0YUEVh58mDj"
      },
      "outputs": [],
      "source": [
        "# Example usage\n",
        "data = test_graphs[0]  # Select one graph for analysis\n",
        "batch = torch.zeros(data.x.size(0), dtype=torch.long)  # All nodes belong to the same graph\n",
        "\n",
        "# Create Grad-CAM instance\n",
        "grad_cam = GradCamGAT(model, target_layer=model.gat1)  # Use the first GAT layer as the target\n",
        "\n",
        "# Forward pass through Grad-CAM\n",
        "graph_output, node_output = grad_cam.forward(data.x, data.edge_index, data.edge_attr, batch)\n",
        "\n",
        "# Backward pass to compute gradients\n",
        "predicted_class = graph_output.argmax(dim=1).item()  # Get the predicted class\n",
        "grad_cam.backward(graph_output, class_idx=predicted_class)\n",
        "\n",
        "# Compute node importance\n",
        "node_importance = grad_cam.get_node_importance()\n",
        "\n",
        "# Visualize node importance\n",
        "plt.bar(range(len(node_importance)), node_importance.numpy(), color='green')\n",
        "plt.xlabel(\"Node Index\")\n",
        "plt.ylabel(\"Importance\")\n",
        "plt.title(\"Node Importance via Grad-CAM\")\n",
        "plt.show()"
      ]
    },
    {
      "cell_type": "markdown",
      "id": "rbrceY7E3z99",
      "metadata": {
        "id": "rbrceY7E3z99"
      },
      "source": [
        "Higher importance scores indicate that the model considers those nodes more influential in making its predictions. We see that the importance scores are  uniform in some groups, it implies that the model isn't effectively distinguishing between important and less important nodes in certain groups of nodes."
      ]
    },
    {
      "cell_type": "markdown",
      "id": "VATVXG4H9GZ-",
      "metadata": {
        "id": "VATVXG4H9GZ-"
      },
      "source": [
        "# Final observations"
      ]
    },
    {
      "cell_type": "markdown",
      "id": "4yRbnf2N9LLK",
      "metadata": {
        "id": "4yRbnf2N9LLK"
      },
      "source": [
        "From above results we see that there is room for improvement, starting from more restrictive data cleaning/selection as it presented some difficulties such as corrupted samples or inconsitencies in the size of samples etc. This comes with a risk as the dataset is not large and samples come from cheap EEG measuring devices. We also observe that ther could be a chance for improvement with for example better parameter choices for the models as we have seen some underfitting tendencies and difficulties with pattern recognition."
      ]
    },
    {
      "cell_type": "code",
      "execution_count": null,
      "id": "_NIIyunG37SP",
      "metadata": {
        "id": "_NIIyunG37SP"
      },
      "outputs": [],
      "source": [
        "#Alex Sandbox from here\n",
        "#!pip install nilearn\n",
        "'''\n",
        "!pip install mne pyvista pyvistaqt qtpy\n",
        "import mne\n",
        "import numpy as np\n",
        "import pyvista as pv\n",
        "\n",
        "# Load FreeSurfer brain mesh\n",
        "brain = mne.viz.Brain('fsaverage', subjects_dir='/path/to/freesurfer/subjects')\n",
        "\n",
        "# Example EEG electrode positions in MNI space\n",
        "coords = np.array([\n",
        "    [-30, 40, 50], [30, 40, 50], [-50, 10, 40], [50, 10, 40],\n",
        "    [-40, -20, 30], [40, -20, 30], [-10, -50, 20], [10, -50, 20]\n",
        "])\n",
        "\n",
        "# Create connectivity matrix\n",
        "connectivity = np.random.rand(len(coords), len(coords))\n",
        "\n",
        "# Create 3D PyVista plot\n",
        "plotter = pv.Plotter()\n",
        "plotter.add_mesh(brain._brain_mesh, color=\"white\", opacity=0.3)\n",
        "\n",
        "# Add EEG sensors as spheres\n",
        "for coord in coords:\n",
        "    plotter.add_mesh(pv.Sphere(radius=2, center=coord), color=\"red\")\n",
        "\n",
        "# Add connectivity edges\n",
        "for i in range(len(coords)):\n",
        "    for j in range(i+1, len(coords)):\n",
        "        if connectivity[i, j] > 0.5:  # Thresholding\n",
        "            plotter.add_mesh(pv.Line(coords[i], coords[j]), color=\"blue\", line_width=2)\n",
        "\n",
        "plotter.show()\n",
        "'''"
      ]
    },
    {
      "cell_type": "code",
      "execution_count": null,
      "id": "oPsLI12dqYEq",
      "metadata": {
        "id": "oPsLI12dqYEq"
      },
      "outputs": [],
      "source": []
    }
  ],
  "metadata": {
    "accelerator": "GPU",
    "colab": {
      "collapsed_sections": [
        "y5UA83fAOHLd"
      ],
      "gpuType": "T4",
      "provenance": []
    },
    "kernelspec": {
      "display_name": "Python 3",
      "name": "python3"
    },
    "language_info": {
      "codemirror_mode": {
        "name": "ipython",
        "version": 3
      },
      "file_extension": ".py",
      "mimetype": "text/x-python",
      "name": "python",
      "nbconvert_exporter": "python",
      "pygments_lexer": "ipython3",
      "version": "3.12.4"
    }
  },
  "nbformat": 4,
  "nbformat_minor": 5
}